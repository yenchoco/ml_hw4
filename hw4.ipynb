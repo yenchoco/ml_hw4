{
  "cells": [
    {
      "cell_type": "markdown",
      "metadata": {
        "id": "IagZMs0_qjdL"
      },
      "source": [
        "# 1. Introduction\n",
        "\n",
        "Welcome to your fourth assignment. In this assignment, you will build a convolutional neural network step by step. In this notebook, you will implement all the functions required to build a convolutional neural network.\n",
        "\n",
        "After finishing this assignment, you will have a deeper understanding of the process of training a convolutional neural network, which mainly consists of two parts: convolution layer and pooling layer."
      ]
    },
    {
      "cell_type": "markdown",
      "metadata": {
        "id": "yGFR00CQvoaH"
      },
      "source": [
        "# 2. Packages\n",
        "All the packages that you need to finish basic part of this assignment are listed below.\n",
        "*   numpy : The fundamental package for scientific computing with Python.\n",
        "*   matplotlib : A comprehensive library for creating static, animated, and interactive visualizations in Python.\n",
        "*   math : Python has a built-in module that you can use for mathematical tasks.\n",
        "*   pandas.read_csv : Provides functionality for reading a csv dataset from a GitHub repository.\n",
        "* sklearn.model_selection.train_test_split: A function helps you split train and test data.\n",
        "* os: A module provides the facility to establish the interaction between the user and the operating system. You can access the image directory by os.\n",
        "* cv2.imread: It is the module import name for opencv-python.\n",
        "* time: Provides various time-related functions.\n",
        "* google.colab.drive: Let you connect colab and your googol drive.\n",
        "* sys: Let you access system-specific parameters and functions.\n",
        "\n",
        "⚠️ **WARNING** ⚠️: \n",
        "*   Please do not import any other packages in basic part.\n",
        "*   np.random.seed(seed) is used to keep all the random function calls consistent. It will help us grade your work. Please don't change the seed.\n",
        "\n",
        "❗ **Important** ❗: Please do not change the code outside this code bracket.\n",
        "```\n",
        "### START CODE HERE ### (≈ n lines)\n",
        "...\n",
        "### END CODE HERE ###\n",
        "```\n",
        "\n"
      ]
    },
    {
      "cell_type": "code",
      "execution_count": null,
      "metadata": {
        "id": "YcLLrIEc-4h6",
        "colab": {
          "base_uri": "https://localhost:8080/"
        },
        "outputId": "9b6a3320-0d0e-4830-f9f4-6d68b2d1f1ad"
      },
      "outputs": [
        {
          "output_type": "stream",
          "name": "stdout",
          "text": [
            "Mounted at /content/drive\n"
          ]
        }
      ],
      "source": [
        "from google.colab import drive\n",
        "drive.mount('/content/drive')"
      ]
    },
    {
      "cell_type": "code",
      "execution_count": null,
      "metadata": {
        "id": "_go37iU6-4k8"
      },
      "outputs": [],
      "source": [
        "import sys\n",
        "sys.path.append(\"/content/drive/MyDrive\") ## the path of the directory where you place dense.py, activation.py ...."
      ]
    },
    {
      "cell_type": "code",
      "execution_count": null,
      "metadata": {
        "id": "fmTH9UkeqdYf"
      },
      "outputs": [],
      "source": [
        "import os\n",
        "import math\n",
        "import time \n",
        "import numpy as np\n",
        "from cv2 import imread, IMREAD_GRAYSCALE # IMREAD_GRAYSCALE allow you to load the image as gray scale image\n",
        "from pandas import read_csv\n",
        "import matplotlib.pyplot as plt\n",
        "\n",
        "###### import your HW3 code (Don't change this part) ######\n",
        "# from Dense import Dense\n",
        "# from Activation import Activation\n",
        "# from Loss import compute_BCE_cost\n",
        "# from Predict import predict\n",
        "##################################\n",
        "\n",
        "output = {}\n",
        "seed = 1\n",
        "np.random.seed(seed)"
      ]
    },
    {
      "cell_type": "code",
      "source": [
        "class Dense():\n",
        "    def __init__(self, n_x, n_y, seed=1):\n",
        "        self.n_x = n_x\n",
        "        self.n_y = n_y\n",
        "\n",
        "        self.seed = seed\n",
        "        self.initialize_parameters()\n",
        "        self.name=\"dense\"\n",
        "\n",
        "    def initialize_parameters(self):\n",
        "        \"\"\"\n",
        "        Argument:\n",
        "        self.n_x -- size of the input layer\n",
        "        self.n_y -- size of the output layer\n",
        "        self.parameters -- python dictionary containing your parameters:\n",
        "                           W -- weight matrix of shape (n_y, n_x)\n",
        "                           b -- bias vector of shape (n_y, 1)\n",
        "        \"\"\"\n",
        "        np.random.seed(self.seed)\n",
        "\n",
        "        # GRADED FUNCTION: linear_initialize_parameters\n",
        "        ### START CODE HERE ### (≈ 6 lines of code)\n",
        "        lower, upper = -(math.sqrt(6.0 / (self.n_x + self.n_y))),math.sqrt((6.0) / (self.n_x + self.n_y))\n",
        "\n",
        "        W = np.random.uniform(low = lower,high = upper,size=(self.n_y,self.n_x))    # 1(n_y)*3(n_x)的array\n",
        "        b = np.zeros((self.n_y, 1)) #to fixed\n",
        "        ### END CODE HERE ###\n",
        "\n",
        "        assert(W.shape == (self.n_y, self.n_x))\n",
        "        # print(W.shape)\n",
        "        assert(b.shape == (self.n_y, 1))\n",
        "\n",
        "        self.parameters = {\"W\": W, \"b\": b}\n",
        "        # self.cache = {\"W\": W, \"b\": b}\n",
        "\n",
        "    def forward(self, A):\n",
        "        \"\"\"\n",
        "        Implement the linear part of a layer's forward propagation.\n",
        "\n",
        "        Arguments:\n",
        "        A -- activations from previous layer (or input data): (size of previous layer, number of examples)\n",
        "        self.cache -- a python tuple containing \"A\", \"W\" and \"b\" ; stored for computing the backward pass efficiently\n",
        "\n",
        "        Returns:\n",
        "        Z -- the input of the activation function, also called pre-activation parameter \n",
        "        \"\"\"\n",
        "\n",
        "        # GRADED FUNCTION: linear_forward\n",
        "        ### START CODE HERE ### (≈ 2 line of code)\n",
        "        Z = np.dot(self.parameters[\"W\"], A) + self.parameters[\"b\"]\n",
        "        self.cache = (A, self.parameters[\"W\"], self.parameters[\"b\"])\n",
        "        ### END CODE HERE ###\n",
        "        \n",
        "        assert(Z.shape == (self.parameters[\"W\"].shape[0], A.shape[1]))\n",
        "        \n",
        "        return Z\n",
        "\n",
        "    def backward(self, dZ):\n",
        "        \"\"\"\n",
        "        Implement the linear portion of backward propagation for a single layer (layer l)\n",
        "\n",
        "        Arguments:\n",
        "        dZ -- Gradient of the cost with respect to the linear output (of current layer l)\n",
        "        self.cache -- tuple of values (A_prev, W, b) coming from the forward propagation in the current layer\n",
        "        self.dW -- Gradient of the cost with respect to W (current layer l), same shape as W\n",
        "        self.db -- Gradient of the cost with respect to b (current layer l), same shape as b\n",
        "\n",
        "        Returns:\n",
        "        dA_prev -- Gradient of the cost with respect to the activation (of the previous layer l-1), same shape as A_prev\n",
        "\n",
        "        \"\"\"\n",
        "        A_prev, W, b = self.cache\n",
        "        m = A_prev.shape[1]\n",
        "\n",
        "        # GRADED FUNCTION: linear_backward\n",
        "        ### START CODE HERE ### (≈ 3 lines of code)\n",
        "        self.dW = (1 / m) * np.dot(dZ, A_prev.T)      \n",
        "        self.db = (1 / m) * np.sum(dZ, axis=1, keepdims=True)\n",
        "        dA_prev = np.dot(W.T, dZ)\n",
        "        ### END CODE HERE ###\n",
        "        \n",
        "        assert (dA_prev.shape == A_prev.shape)\n",
        "        assert (self.dW.shape == self.parameters[\"W\"].shape)\n",
        "        assert (self.db.shape == self.parameters[\"b\"].shape)\n",
        "        \n",
        "        return dA_prev\n",
        "\n",
        "    def update(self, learning_rate):\n",
        "        \"\"\"\n",
        "        Update parameters using gradient descent\n",
        "        \n",
        "        Arguments:\n",
        "        learning rate -- step size\n",
        "        \"\"\"\n",
        "\n",
        "        # GRADED FUNCTION: linear_update_parameters\n",
        "        ### START CODE HERE ### (≈ 2 lines of code)\n",
        "        self.parameters[\"W\"] = self.parameters[\"W\"] - learning_rate*self.dW\n",
        "        self.parameters[\"b\"] = self.parameters[\"b\"] - learning_rate*self.db\n",
        "        ### END CODE HERE ###"
      ],
      "metadata": {
        "id": "9ShIjTIAfE3s"
      },
      "execution_count": null,
      "outputs": []
    },
    {
      "cell_type": "code",
      "source": [
        "class Activation():\n",
        "    def __init__(self, function):\n",
        "        self.function = function\n",
        "        self.name=function\n",
        "\n",
        "    def forward(self, Z):\n",
        "        if self.function == \"sigmoid\":\n",
        "            \"\"\"\n",
        "            Implements the sigmoid activation in numpy\n",
        "            \n",
        "            Arguments:\n",
        "            Z -- numpy array of any shape\n",
        "            self.cache -- stores Z as well, useful during backpropagation\n",
        "            \n",
        "            Returns:\n",
        "            A -- output of sigmoid(z), same shape as Z\n",
        "            \n",
        "            \"\"\"\n",
        "            # np.stack(np.vectorize(filter_func)(myarray),2)   \n",
        "            # GRADED FUNCTION: sigmoid_forward\n",
        "            ### START CODE HERE ### (≈ 8 lines of code)\n",
        "            def sigmoid(Z): \n",
        "              Z = np.array(Z)\n",
        "              shape = Z.shape\n",
        "              Z = Z.reshape(Z.size)\n",
        "              new = []\n",
        "              for i in Z:\n",
        "                if(i>=0):\n",
        "                  i = 1/(1 + math.exp(-i))\n",
        "                  new.append(i)\n",
        "                else:\n",
        "                  i = math.exp(i)/(1 + math.exp(i))\n",
        "                  new.append(i)\n",
        "              new = np.array(new)\n",
        "              new = new.reshape(shape)\n",
        "              return new\n",
        "            Z_copy = Z.copy()\n",
        "            A = sigmoid(Z_copy)\n",
        "            self.cache = Z\n",
        "            assert (A.shape == Z.shape)\n",
        "            ### END CODE HERE ###\n",
        "            \n",
        "            return A\n",
        "\n",
        "        elif self.function == \"softmax\":\n",
        "            \"\"\"\n",
        "            Implements the softmax activation in numpy\n",
        "            \n",
        "            Arguments:\n",
        "            Z -- numpy array of any shape (dim 0: number of classes, dim 1: number of samples)\n",
        "            self.cache -- stores Z as well, useful during backpropagation\n",
        "            \n",
        "            Returns:\n",
        "            A -- output of softmax(z), same shape as Z\n",
        "            \"\"\"\n",
        "\n",
        "            # GRADED FUNCTION: softmax_forward\n",
        "            ### START CODE HERE ### (≈ 2 lines of code)\n",
        "            Z_copy = Z.copy()\n",
        "            Z_copy = np.array(Z_copy)\n",
        "\n",
        "            m = np.amax(Z_copy,axis=0,keepdims = True)\n",
        "            z_exp = np.exp(Z_copy - m)\n",
        "            z_sum = np.sum(z_exp,axis = 0, keepdims = True)\n",
        "            new = z_exp / z_sum\n",
        "\n",
        "            A = new\n",
        "            self.cache = Z\n",
        "            ### END CODE HERE ###\n",
        "\n",
        "            assert(A.shape == Z.shape)\n",
        "            \n",
        "            return A\n",
        "\n",
        "        elif self.function == \"relu\":\n",
        "            \"\"\"\n",
        "            Implement the RELU function in numpy\n",
        "            Arguments:\n",
        "            Z -- numpy array of any shape\n",
        "            self.cache -- stores Z as well, useful during backpropagation\n",
        "            Returns:\n",
        "            A -- output of relu(z), same shape as Z\n",
        "            \n",
        "            \"\"\"\n",
        "            \n",
        "            # GRADED FUNCTION: relu_forward\n",
        "            ### START CODE HERE ### (≈ 2 lines of code)\n",
        "            Z_copy = Z.copy()\n",
        "            Z_copy = np.array(Z_copy)\n",
        "            shape = Z_copy.shape\n",
        "            Z_copy = Z_copy.reshape(Z_copy.size)\n",
        "            new = []\n",
        "            for i in Z_copy:\n",
        "              new.append(max(i,0))\n",
        "            new = np.array(new)\n",
        "            new = new.reshape(shape)\n",
        "            A = new\n",
        "            self.cache = Z \n",
        "            ### END CODE HERE ###\n",
        "            \n",
        "            assert(A.shape == Z.shape)\n",
        "            \n",
        "            return A\n",
        "\n",
        "    def backward(self, dA=None, Y=None):\n",
        "        if self.function == \"sigmoid\":\n",
        "            \"\"\"\n",
        "            Implement the backward propagation for a single SIGMOID unit.\n",
        "            Arguments:\n",
        "            dA -- post-activation gradient, of any shape\n",
        "            self.cache -- 'Z' where we store for computing backward propagation efficiently\n",
        "            Returns:\n",
        "            dZ -- Gradient of the cost with respect to Z\n",
        "            \"\"\"\n",
        "            \n",
        "            # GRADED FUNCTION: sigmoid_backward\n",
        "            ### START CODE HERE ### (≈ 9 lines of code)\n",
        "            def sigmoid(Z): \n",
        "              Z = np.array(Z)\n",
        "              shape = Z.shape\n",
        "              Z = Z.reshape(Z.size)\n",
        "              new = []\n",
        "              for i in Z:\n",
        "                if(i>=0):\n",
        "                  i = 1/(1 + math.exp(-i))\n",
        "                  new.append(i)\n",
        "                else:\n",
        "                  i = math.exp(i)/(1 + math.exp(i))\n",
        "                  new.append(i)\n",
        "              new = np.array(new)\n",
        "              new = new.reshape(shape)\n",
        "              return new\n",
        "            \n",
        "            Z_copy = self.cache.copy()\n",
        "            one = np.ones(Z_copy.shape)\n",
        "            z1 = np.subtract(one, sigmoid(Z_copy)) \n",
        "            deri_sig = np.multiply(sigmoid(Z_copy),z1)\n",
        "\n",
        "            Z = self.cache\n",
        "            dZ = np.multiply(dA,deri_sig)\n",
        "            ### END CODE HERE ###\n",
        "            \n",
        "            assert (dZ.shape == Z.shape)\n",
        "            \n",
        "            return dZ\n",
        "\n",
        "        elif self.function == \"relu\":\n",
        "            \"\"\"\n",
        "            Implement the backward propagation for a single RELU unit.\n",
        "            Arguments:\n",
        "            dA -- post-activation gradient, of any shape\n",
        "            self.cache -- 'Z' where we store for computing backward propagation efficiently\n",
        "            Returns:\n",
        "            dZ -- Gradient of the cost with respect to Z\n",
        "            \"\"\"\n",
        "            \n",
        "            # GRADED FUNCTION: relu_backward\n",
        "            ### START CODE HERE ### (≈ 3 lines of code)\n",
        "            Z_copy = self.cache.copy()\n",
        "            Z_copy = np.array(Z_copy)\n",
        "            shape = Z_copy.shape\n",
        "            Z_copy = Z_copy.reshape(Z_copy.size)\n",
        "            new = []\n",
        "            d_new = []\n",
        "            for i in Z_copy:\n",
        "              new.append(max(i,0))\n",
        "            \n",
        "            for i in new:\n",
        "              if(i>0):\n",
        "                d_new.append(1)\n",
        "              else:\n",
        "                d_new.append(0)\n",
        "            d_new = np.array(d_new)\n",
        "            d_new = d_new.reshape(shape)\n",
        "\n",
        "            Z = self.cache\n",
        "            dZ = np.multiply(dA,d_new) # just converting dz to a correct object. \n",
        "            dZ[Z <= 0] = 0 # When z <= 0, you should set dz to 0 as well.\n",
        "            ### END CODE HERE ###\n",
        "            \n",
        "            assert (dZ.shape == Z.shape)\n",
        "            \n",
        "            return dZ\n",
        "\n",
        "        elif self.function == \"softmax\":\n",
        "            \"\"\"\n",
        "            Implement the backward propagation for a [SOFTMAX->CCE LOSS] unit.\n",
        "            Arguments:\n",
        "            Y -- true \"label\" vector (one hot vector, for example: [[1], [0], [0]] represents rock, [[0], [1], [0]] represents paper, [[0], [0], [1]] represents scissors \n",
        "                                      in a Rock-Paper-Scissors image classification), shape (number of classes, number of examples)\n",
        "                                      (dim 0: number of classes, dim 1: number of samples)\n",
        "            self.cache -- 'Z' where we store for computing backward propagation efficiently\n",
        "            Returns:\n",
        "            dZ -- Gradient of the cost with respect to Z\n",
        "            \"\"\"\n",
        "            \n",
        "            # GRADED FUNCTION: softmax_CCE_backward\n",
        "            ### START CODE HERE ### (≈ 3 lines of code)\n",
        "            Z_copy = self.cache.copy()\n",
        "            Z_copy = np.array(Z_copy)\n",
        "\n",
        "            m = np.amax(Z_copy,axis=0,keepdims = True)\n",
        "            z_exp = np.exp(Z_copy - m)\n",
        "            z_sum = np.sum(z_exp,axis = 0, keepdims = True)\n",
        "            new = z_exp / z_sum\n",
        "\n",
        "            Z = self.cache\n",
        "            s = new\n",
        "            dZ = np.subtract(s,Y)\n",
        "            ### END CODE HERE ###\n",
        "\n",
        "            # Z_copy = Z.copy()\n",
        "            # Z_copy = np.array(Z_copy)\n",
        "\n",
        "            # m = np.amax(Z_copy,axis=0,keepdims = True)\n",
        "            # z_exp = np.exp(Z_copy - m)\n",
        "            # z_sum = np.sum(z_exp,axis = 0, keepdims = True)\n",
        "            # new = z_exp / z_sum\n",
        "            \n",
        "            assert (dZ.shape == Z.shape)\n",
        "            \n",
        "            return dZ"
      ],
      "metadata": {
        "id": "UOfn_geIfNmr"
      },
      "execution_count": null,
      "outputs": []
    },
    {
      "cell_type": "code",
      "source": [
        "# GRADED FUNCTION: compute_BCE_cost\n",
        "\n",
        "def compute_BCE_cost(AL, Y):\n",
        "    \"\"\"\n",
        "    Implement the binary cross-entropy cost function using the above formula.\n",
        "\n",
        "    Arguments:\n",
        "    AL -- probability vector corresponding to your label predictions, shape (1, number of examples)\n",
        "    Y -- true \"label\" vector (for example: containing 0 if non-cat, 1 if cat), shape (1, number of examples)\n",
        "\n",
        "    Returns:\n",
        "    cost -- binary cross-entropy cost\n",
        "    \"\"\"\n",
        "    \n",
        "    m = Y.shape[1]\n",
        "\n",
        "    # Compute loss from aL and y.\n",
        "    ### START CODE HERE ### (≈ 1 line of code)\n",
        "    ϵ = 1e-5\n",
        "    cost = - (1 / m) * np.sum(np.multiply(Y, np.log(AL + ϵ)) + np.multiply(1 - Y, np.log(1 - AL + ϵ)))\n",
        "    ### END CODE HERE ###\n",
        "    \n",
        "    cost = np.squeeze(cost)      # To make sure your cost's shape is what we expect (e.g. this turns [[17]] into 17).\n",
        "    assert(cost.shape == ())\n",
        "    \n",
        "    return cost"
      ],
      "metadata": {
        "id": "Jqz29a8MfRW_"
      },
      "execution_count": null,
      "outputs": []
    },
    {
      "cell_type": "code",
      "source": [
        "# GRADED FUNCTION: compute_CCE_cost\n",
        "\n",
        "def compute_CCE_cost(AL, Y):\n",
        "    \"\"\"\n",
        "    Implement the categorical cross-entropy cost function using the above formula.\n",
        "\n",
        "    Arguments:\n",
        "    AL -- probability vector corresponding to your label predictions, shape (number of classes, number of examples)\n",
        "    Y -- true \"label\" vector (one hot vector, for example: [[1], [0], [0]] represents rock, [[0], [1], [0]] represents paper, [[0], [0], [1]] represents scissors \n",
        "                              in a Rock-Paper-Scissors image classification), shape (number of classes, number of examples)\n",
        "\n",
        "    Returns:\n",
        "    cost -- categorical cross-entropy cost\n",
        "    \"\"\"\n",
        "    \n",
        "    m = Y.shape[1]\n",
        "\n",
        "    # Compute loss from aL and y.\n",
        "    ### START CODE HERE ### (≈ 1 line of code)\n",
        "    ϵ = 1e-5\n",
        "    cost = - (1 / m) * np.sum(np.multiply(Y, np.log(AL + ϵ)))\n",
        "    ### END CODE HERE ###\n",
        "    \n",
        "    cost = np.squeeze(cost)      # To make sure your cost's shape is what we expect (e.g. this turns [[17]] into 17).\n",
        "    assert(cost.shape == ())\n",
        "    \n",
        "    return cost"
      ],
      "metadata": {
        "id": "Gg5zv_Oe1IYJ"
      },
      "execution_count": null,
      "outputs": []
    },
    {
      "cell_type": "code",
      "source": [
        "# Helper function\n",
        "def predict(X, y, model, classes):\n",
        "    \"\"\"\n",
        "    This function is used to predict the results of a  L-layer neural network.\n",
        "    \n",
        "    Arguments:\n",
        "    X -- data set of examples you would like to label\n",
        "    model -- trained model\n",
        "    classes - number of classes, 2 for binary classification, >2 for multi-class classification\n",
        "    \n",
        "    Returns:\n",
        "    p -- predictions for the given dataset X\n",
        "    \"\"\"\n",
        "    \n",
        "    m = X.shape[0]\n",
        "    print(\"m = X.shape[1]:\",m)\n",
        "    # n = len(model.linear) # number of layers in the neural network\n",
        "    n = len(model.layers)\n",
        "\n",
        "    if classes == 2:\n",
        "      p = np.zeros((1,m)) #p = (1,32)\n",
        "    else:\n",
        "      p = np.zeros((classes, m))\n",
        "    \n",
        "    # Forward propagation\n",
        "    probas = model.forward(X)\n",
        "    print(\"probas.shape:\",probas.shape) #probas.shape = y.shape\n",
        "    if classes == 2:\n",
        "      # convert probas to 0/1 predictions\n",
        "      # for i in range(0, probas.shape[1]):\n",
        "      for i in range(probas.shape[1]):\n",
        "          if probas[0,i] > 0.5:\n",
        "              p[0,i] = 1\n",
        "          else:\n",
        "              p[0,i] = 0\n",
        "\n",
        "      #print results\n",
        "      if y is not None:\n",
        "        print(\"Accuracy: \"  + str(np.sum((p == y)/m)))\n",
        "\n",
        "    else:\n",
        "      # convert probas to one hot vector predictions\n",
        "      prediction = np.argmax(probas, axis=0, out=None)\n",
        "    \n",
        "      for i in range(len(prediction)):\n",
        "          p[prediction[i], i] = 1\n",
        "\n",
        "      #print results\n",
        "      if y is not None:\n",
        "        correct = 0\n",
        "        for i in range(m):\n",
        "          if (p[:, i] == y[:, i]).all():\n",
        "            correct += 1\n",
        "        print(\"Accuracy: \"  + str(correct/m))\n",
        "        \n",
        "    return p"
      ],
      "metadata": {
        "id": "JtLHxYnvfb_f"
      },
      "execution_count": null,
      "outputs": []
    },
    {
      "cell_type": "markdown",
      "metadata": {
        "id": "VMe4BNRPRQvF"
      },
      "source": [
        "# 3. Convolution layer\n",
        "\n",
        "In this section, you will need to implement a very important part of the convolutional neural network, which is the convolution layer. Convolution layer enables us to capture the important features of input images.\n",
        "\n",
        "You will have to implement two helper functions and the forward pass of the convolution layer. All you need to do is to follow the instructions and understand how each part works."
      ]
    },
    {
      "cell_type": "code",
      "execution_count": null,
      "metadata": {
        "id": "ADlgENHVRQvG"
      },
      "outputs": [],
      "source": [
        "def zero_pad(X, pad):\n",
        "    \"\"\"\n",
        "    Pad with zeros all images of the dataset X. The padding is applied to the height and width of an image.\n",
        "    \n",
        "    Argument:\n",
        "    X -- python numpy array of shape (m, n_H, n_W, n_C), where m represent the number of examples.\n",
        "    pad -- integer, amount of padding around each image on vertical and horizontal dimensions\n",
        "    \n",
        "    Returns:\n",
        "    X_pad -- padded image of shape (m, n_H + 2*pad, n_W + 2*pad, n_C)\n",
        "    \"\"\"\n",
        "    \n",
        "    # GRADED FUNCTION: zero_padding\n",
        "    ### START CODE HERE ### (≈ 1 line)\n",
        "    # X_pad = []\n",
        "    # for i in range(X.shape[0]):\n",
        "    X_pad = np.pad(X, pad_width=[(0,0),(pad, pad),(pad, pad),(0, 0)], mode='constant')\n",
        "    # X_pad = np.array(X_pad)\n",
        "    ### END CODE HERE ###\n",
        "    \n",
        "    return X_pad"
      ]
    },
    {
      "cell_type": "code",
      "execution_count": null,
      "metadata": {
        "id": "nNerbFLTRQvG"
      },
      "outputs": [],
      "source": [
        "class Conv():\n",
        "    def __init__(self, filter_size=2, input_channel=3, output_channel=8, pad=1, stride=1, seed=1):\n",
        "        \n",
        "        self.filter_size= filter_size\n",
        "        self.input_channel=input_channel\n",
        "        self.output_channel=output_channel\n",
        "        self.seed = seed\n",
        "        \n",
        "        self.parameters = {\"pad\": pad, \"stride\": stride}\n",
        "        self.initialize_parameters()\n",
        "        \n",
        "        \n",
        "        self.name=\"conv\"\n",
        "\n",
        "    def initialize_parameters(self):\n",
        "        \"\"\"\n",
        "        Argument:\n",
        "        self.filter_size -- size of the filter\n",
        "        self.input_channel -- size of the input channel\n",
        "        self.output_channel -- size of the output channel\n",
        "        self.parameters -- python dictionary containing your parameters:\n",
        "                           W -- weight matrix of shape (filter_size, filter_size, input channel size, output channel size)\n",
        "                           b -- bias vector of shape (1, 1, 1, output channel size)\n",
        "                           pad -- amount of padding around each image on vertical and horizontal dimensions\n",
        "                           stride -- represent the amount of movement that a filter move in one step\n",
        "        \"\"\"\n",
        "        np.random.seed(seed)\n",
        "\n",
        "        # GRADED FUNCTION: conv_initialization\n",
        "        ### START CODE HERE ### (≈ 8 lines)\n",
        "        lower, upper = -(math.sqrt(6.0 / (self.input_channel + self.output_channel))),math.sqrt((6.0) / (self.input_channel + self.output_channel))\n",
        "\n",
        "        W = np.random.uniform(low = lower,high = upper,size=(self.filter_size, self.filter_size, self.input_channel,self.output_channel))    # 1(n_y)*3(n_x)的array\n",
        "        b = np.zeros((1, 1, 1, self.output_channel)) #to fixed\n",
        "        ### END CODE HERE ###\n",
        "\n",
        "        assert(W.shape == (self.filter_size,self.filter_size,self.input_channel,self.output_channel))\n",
        "        assert(b.shape == (1,1,1,self.output_channel))\n",
        "\n",
        "        self.parameters['W'] = W\n",
        "        self.parameters['b'] = b\n",
        "        \n",
        "    \n",
        "    \n",
        "    def conv_single_step(self, a_slice_prev, W, b):\n",
        "        \"\"\"\n",
        "        Apply a filter W on a_slice_prev.\n",
        "\n",
        "        Arguments:\n",
        "        a_slice_prev -- slice of input data of shape (filter_size, filter_size, n_C_prev)\n",
        "        W -- Weight parameters contained in a window - matrix of shape (filter_size, filter_size, n_C_prev)\n",
        "        b -- Bias parameters contained in a window - matrix of shape (1, 1, 1)\n",
        "\n",
        "        Returns:\n",
        "        Z -- a scalar value, result of convolving the sliding window (W, b) on a slice x of the input data\n",
        "        \"\"\"\n",
        "\n",
        "        # GRADED FUNCTION: conv_single_step\n",
        "        ### START CODE HERE ### (≈ 3 lines)\n",
        "        # Element-wise product between a_slice and W.\n",
        "        s = np.multiply(a_slice_prev, W)\n",
        "        # Sum over all entries of the volume s.\n",
        "        Z = np.sum(s)\n",
        "        # Add bias b to Z. Cast b to a float() so that Z results in a scalar value.\n",
        "        Z = Z + float(b)\n",
        "        ### END CODE HERE ###\n",
        "\n",
        "        return Z\n",
        "    \n",
        "    def forward(self, A_prev):\n",
        "        \"\"\"\n",
        "        Implements the forward propagation for a convolution layer\n",
        "\n",
        "        Arguments:\n",
        "        A_prev -- output activations of the previous layer, numpy array of shape (m, n_H_prev, n_W_prev, n_C_prev)\n",
        "\n",
        "        Returns:\n",
        "        Z -- conv output, numpy array of shape (m, n_H, n_W, n_C)\n",
        "        \"\"\"\n",
        "\n",
        "        # GRADED FUNCTION: conv_forward\n",
        "        ### START CODE HERE ###\n",
        "        # Retrieve dimensions from A_prev's shape (≈1 line)  \n",
        "        (m, n_H_prev, n_W_prev, n_C_prev) = A_prev.shape #(10,4,4,3)\n",
        "\n",
        "        # Retrieve dimensions from W's shape (≈1 line)\n",
        "        (f, f, n_C_prev, n_C) = self.parameters['W'].shape #(2,2,3,8)\n",
        "\n",
        "\n",
        "        # Compute the dimensions of the convolution output volume using the formula given below.(≈2 lines)\n",
        "        n_H = math.floor((n_H_prev - f + 2*self.parameters[\"pad\"])/self.parameters[\"stride\"]) + 1\n",
        "        n_W = math.floor((n_W_prev - f + 2*self.parameters[\"pad\"])/self.parameters[\"stride\"]) + 1\n",
        "\n",
        "        # Initialize the output volume Z with zeros. (≈1 line)\n",
        "        Z = np.zeros((m, n_H, n_W, n_C))\n",
        "\n",
        "        # if pad!=0, create A_prev_pad by padding A_prev with the parameter \"pad\". (≈1 line)\n",
        "        # if self.parameters[\"pad\"]!=0:\n",
        "        A_prev_pad = zero_pad(A_prev, self.parameters[\"pad\"])\n",
        "\n",
        "        for i in range(m):                               # loop over the batch of training examples\n",
        "            a_prev_pad = A_prev_pad[i,:,:,:]               # Select ith training example's padded activation\n",
        "            for h in range(n_H):                           # loop over vertical axis of the output volume\n",
        "                for w in range(n_W):                       # loop over horizontal axis of the output volume\n",
        "                    for c in range(n_C):                   # loop over channels (= #filter) of the output volume\n",
        "                        # Find the corners of the current \"slice\" (≈4 lines)\n",
        "                        vert_start = h * self.parameters[\"stride\"]\n",
        "                        vert_end = vert_start + f\n",
        "                        horiz_start = w * self.parameters[\"stride\"]\n",
        "                        horiz_end = horiz_start + f\n",
        "                        # Use the corners to define the slice of a_prev_pad. (≈1 line)\n",
        "                        a_slice_prev = a_prev_pad[ vert_start:vert_end, horiz_start:horiz_end, :]\n",
        "                        # Convolve the (3D) slice with the correct filter W and bias b, to get back one output neuron. (≈1 line)\n",
        "                        Z[i, h, w, c] = self.conv_single_step(a_slice_prev, self.parameters['W'][:,:,:,c], self.parameters['b'][:,:,:,c])\n",
        "\n",
        "        ### END CODE HERE ###\n",
        "\n",
        "        # Making sure your output shape is correct\n",
        "        assert(Z.shape == (m, n_H, n_W, n_C))\n",
        "\n",
        "        # Save information in \"cache\" for the backward pass\n",
        "        self.cache = A_prev\n",
        "\n",
        "        return Z\n",
        "    \n",
        "    def backward(self, dZ):\n",
        "        \"\"\"\n",
        "        Implement the backward propagation for a convolution layer\n",
        "\n",
        "        Arguments:\n",
        "        dZ -- gradient of the cost with respect to the output of the conv layer (Z), numpy array of shape (m, n_H, n_W, n_C)\n",
        "\n",
        "        Returns:\n",
        "        dA_prev -- gradient of the cost with respect to the input of the conv layer (A_prev),\n",
        "                   numpy array of shape (m, n_H_prev, n_W_prev, n_C_prev)\n",
        "        \"\"\"\n",
        "\n",
        "\n",
        "        A_prev = self.cache\n",
        "\n",
        "        # Retrieve dimensions from A_prev's shape\n",
        "        (m, n_H_prev, n_W_prev, n_C_prev) = A_prev.shape\n",
        "\n",
        "        # Retrieve dimensions from W's shape\n",
        "        (f, f, n_C_prev, n_C) = self.parameters[\"W\"].shape\n",
        "\n",
        "\n",
        "        # Retrieve dimensions from dZ's shape\n",
        "        (m, n_H, n_W, n_C) = dZ.shape\n",
        "\n",
        "        # Initialize dA_prev, dW, db with the correct shapes\n",
        "        dA_prev = np.zeros((m, n_H_prev, n_W_prev, n_C_prev))                           \n",
        "        dW = np.zeros((f, f, n_C_prev, n_C))\n",
        "        db = np.zeros((1, 1, 1, n_C))\n",
        "\n",
        "        # Pad A_prev and dA_prev\n",
        "        A_prev_pad = zero_pad(A_prev, self.parameters[\"pad\"])\n",
        "        dA_prev_pad = zero_pad(dA_prev, self.parameters[\"pad\"])\n",
        "\n",
        "        for i in range(m):                       # loop over the training examples\n",
        "\n",
        "            # select ith training example from A_prev_pad and dA_prev_pad\n",
        "            a_prev_pad = A_prev_pad[i]\n",
        "            da_prev_pad = dA_prev_pad[i]\n",
        "\n",
        "            for h in range(n_H):                   # loop over vertical axis of the output volume\n",
        "                for w in range(n_W):               # loop over horizontal axis of the output volume\n",
        "                    for c in range(n_C):           # loop over the channels of the output volume\n",
        "\n",
        "                        # Find the corners of the current \"slice\"\n",
        "                        vert_start = h * self.parameters[\"stride\"]\n",
        "                        vert_end = vert_start + f\n",
        "                        horiz_start = w * self.parameters[\"stride\"]\n",
        "                        horiz_end = horiz_start + f\n",
        "\n",
        "                        # Use the corners to define the slice from a_prev_pad\n",
        "                        a_slice = a_prev_pad[vert_start:vert_end, horiz_start:horiz_end, :]\n",
        "\n",
        "                        # Update gradients for the window and the filter's parameters\n",
        "                        da_prev_pad[vert_start:vert_end, horiz_start:horiz_end, :] += self.parameters[\"W\"][:,:,:,c] * dZ[i, h, w, c]\n",
        "                        dW[:,:,:,c] += a_slice * dZ[i, h, w, c]\n",
        "                        db[:,:,:,c] += dZ[i, h, w, c]\n",
        "\n",
        "            # Set the ith training example's dA_prev to the unpaded da_prev_pad\n",
        "            dA_prev[i, :, :, :] = da_prev_pad[self.parameters[\"pad\"]:da_prev_pad.shape[0]-self.parameters[\"pad\"], \n",
        "                                              self.parameters[\"pad\"]:da_prev_pad.shape[1]-self.parameters[\"pad\"], :]\n",
        "\n",
        "        assert(dA_prev.shape == (m, n_H_prev, n_W_prev, n_C_prev))\n",
        "\n",
        "        self.dW = dW\n",
        "        self.db = db\n",
        "\n",
        "        return dA_prev\n",
        "    \n",
        "    def update(self, learning_rate):\n",
        "        \"\"\"\n",
        "        Update parameters using gradient descent\n",
        "        \n",
        "        Arguments:\n",
        "        learning rate -- step size\n",
        "        \"\"\"\n",
        "\n",
        "        # GRADED FUNCTION: conv_update\n",
        "        ### START CODE HERE ### (≈ 2 lines of code)\n",
        "        self.parameters[\"W\"] = self.parameters[\"W\"] - learning_rate*self.dW\n",
        "        self.parameters[\"b\"] = self.parameters[\"b\"] - learning_rate*self.db\n",
        "        ### END CODE HERE ###"
      ]
    },
    {
      "cell_type": "markdown",
      "metadata": {
        "id": "3Q_4VjV5W_gL"
      },
      "source": [
        "##3.1 initialization\n",
        "Using Glorot uniform initialization to initialize the convolution layer's filters with the parameters: filter_size, input_channel, and output_channel.\n",
        "\n",
        "*   Use random initialization (uniform distribution) for the weight matrices. Draws samples from a uniform distribution within [-limit, limit], where limit = sqrt(6 / (fan_in + fan_out)), fan_in is the **number of input channel** and fan_out is the **number of output channel**. However, in the usual implementation, we will consider fan_in and fan_out as the number of input units and the number of output units.\n",
        "*   Use zero initialization for the biases.\n",
        "\n",
        "Exercise: Create and initialize parameters of a convolution layer using Glorot uniform initialization. (1%)\n",
        "\n",
        "It will take following parameters to initialize the convolution layer:\n",
        "*   filter_size: The filter will be in the shape of (filter_size*filter_size)\n",
        "*   input_channel: size of the input channel\n",
        "*   output_channel: size of the output channel\n",
        "*   pad: amount of padding around each image on vertical and horizontal dimensions\n",
        "*   stride: represent the amount of movement that a filter move in one step"
      ]
    },
    {
      "cell_type": "code",
      "execution_count": null,
      "metadata": {
        "id": "McQisK1WW-4t",
        "colab": {
          "base_uri": "https://localhost:8080/"
        },
        "outputId": "f8688e3e-351d-4c7d-c8df-e1b7ec233b29"
      },
      "outputs": [
        {
          "output_type": "stream",
          "name": "stdout",
          "text": [
            "W[0][0][0] =  [-0.12256662  0.32544084 -0.73838    -0.29197414 -0.52177613 -0.6021558\n",
            " -0.46342438 -0.22812192]\n",
            "b =  [[[[0. 0. 0. 0. 0. 0. 0. 0.]]]]\n"
          ]
        }
      ],
      "source": [
        "np.random.seed(seed)\n",
        "conv = Conv(filter_size=2, input_channel=3, output_channel=8, pad=2, stride=2)\n",
        "print(\"W[0][0][0] = \",  conv.parameters[\"W\"][0][0][0])\n",
        "print(\"b = \", conv.parameters[\"b\"])\n",
        "\n",
        "np.random.seed(seed)\n",
        "conv = Conv(filter_size=2, input_channel=3, output_channel=16, pad=2, stride=2)\n",
        "output[\"conv_initialization\"] = conv.parameters[\"W\"][0][0][0]"
      ]
    },
    {
      "cell_type": "markdown",
      "metadata": {
        "id": "t50bsMBRTrP6"
      },
      "source": [
        "Expected output: \n",
        "<table>\n",
        "  <tr>\n",
        "    <td>W[0][0][0]: </td>\n",
        "    <td>[-0.12256662  0.32544084 -0.73838    -0.29197414 -0.52177613 -0.6021558 -0.46342438 -0.22812192]</td>\n",
        "  </tr>\n",
        "  <tr>\n",
        "    <td>b: </td>\n",
        "    <td>[[[[0. 0. 0. 0. 0. 0. 0. 0.]]]]</td>\n",
        "  </tr>\n",
        "</table>"
      ]
    },
    {
      "cell_type": "markdown",
      "metadata": {
        "id": "OAHuFnmDIhgY"
      },
      "source": [
        "## 3.2  Zero-Padding\n",
        "\n",
        "Pad around each image on vertical and horizontal dimensions with zero.\n",
        "\n",
        "1. It allows you to use a convolution layer without necessarily shrinking the height and width of the volumes. This is important for building deeper networks since otherwise the height/width would shrink as you go to deeper layers. \n",
        "2. It helps us keep more of the information at the border of an image. Without padding, very few values at the next layer would be affected by pixels as the edges of an image.\n",
        "\n",
        "**Exercise**: Implement the zero_pad() function to pad the input X with the given parameter \"pad\". (3%)\n",
        "\n",
        "This function takes the following inputs:\n",
        "*   X: input.\n",
        "*   pad: amount of padding around each image on vertical and horizontal dimensions."
      ]
    },
    {
      "cell_type": "code",
      "execution_count": null,
      "metadata": {
        "id": "h9xGiJH5IgyJ",
        "colab": {
          "base_uri": "https://localhost:8080/",
          "height": 372
        },
        "outputId": "9c63205d-a72b-4b61-fd60-c4b24d274ffc"
      },
      "outputs": [
        {
          "output_type": "stream",
          "name": "stdout",
          "text": [
            "x.shape =\n",
            " (4, 3, 3, 2)\n",
            "x_pad.shape =\n",
            " (4, 7, 7, 2)\n",
            "x[0,2,:,0] =\n",
            " [-0.3224172   1.13376944 -0.17242821]\n",
            "x_pad[0,2,:,0] =\n",
            " [ 0.          0.          1.62434536 -0.52817175  0.86540763  0.\n",
            "  0.        ]\n"
          ]
        },
        {
          "output_type": "display_data",
          "data": {
            "text/plain": [
              "<Figure size 432x288 with 2 Axes>"
            ],
            "image/png": "[encoded data removed]"
          },
          "metadata": {
            "needs_background": "light"
          }
        }
      ],
      "source": [
        "np.random.seed(seed)\n",
        "x = np.random.randn(4, 3, 3, 2)\n",
        "x_pad = zero_pad(x, 2)\n",
        "print (\"x.shape =\\n\", x.shape)\n",
        "print (\"x_pad.shape =\\n\", x_pad.shape)\n",
        "print (\"x[0,2,:,0] =\\n\", x[0,2,:,0])\n",
        "print (\"x_pad[0,2,:,0] =\\n\", x_pad[0,2,:,0])\n",
        "\n",
        "fig, axarr = plt.subplots(1, 2)\n",
        "axarr[0].set_title('x')\n",
        "axarr[0].imshow(x[0,:,:,0])\n",
        "axarr[1].set_title('x_pad')\n",
        "axarr[1].imshow(x_pad[0,:,:,0])\n",
        "\n",
        "np.random.seed(seed)\n",
        "x = np.random.randn(4, 2, 2, 2)\n",
        "x_pad = zero_pad(x, 1)\n",
        "output[\"zero_padding\"] = x_pad[0,1,:,0]"
      ]
    },
    {
      "cell_type": "markdown",
      "metadata": {
        "id": "snXOn3sETwDb"
      },
      "source": [
        "Expected output: \n",
        "<table>\n",
        "  <tr>\n",
        "    <td>x.shape: </td>\n",
        "    <td>(4, 3, 3, 2)</td>\n",
        "  </tr>\n",
        "  <tr>\n",
        "    <td>x_pad.shape: </td>\n",
        "    <td>(4, 7, 7, 2)</td>\n",
        "  </tr>\n",
        "  <tr>\n",
        "    <td>x[0,2,:,0]: </td>\n",
        "    <td>[-0.3224172   1.13376944 -0.17242821]</td>\n",
        "  </tr>\n",
        "  <tr>\n",
        "    <td>x_pad[0,2,:,0]: </td>\n",
        "    <td>[ 0. 0. 1.62434536 -0.52817175 0.86540763 0. 0.]\n",
        "</td>\n",
        "  </tr>\n",
        "</table>"
      ]
    },
    {
      "cell_type": "markdown",
      "metadata": {
        "id": "GPVifontJlWr"
      },
      "source": [
        "## 3.3 Convolution_single_step\n",
        "In this part, you will implement a single step of convolution, in which you apply the filter to a single position of the input. This will be used to build a convolutional unit.\n",
        "\n",
        "We will convolve an f*f filter with the image by multiplying its values element-wise with the original matrix, then summing them up and adding a bias.\n",
        "\n",
        "**Exercise**: Implement conv_single_step( ). (5%)\n",
        "\n",
        "This function takes the following inputs:\n",
        "*   a_slice_prev: the output of the activation by the previous layer.\n",
        "*   W: the filter with size f*f.\n",
        "*   b: the bias.\n"
      ]
    },
    {
      "cell_type": "code",
      "execution_count": null,
      "metadata": {
        "id": "02WmPxJKJbJa",
        "colab": {
          "base_uri": "https://localhost:8080/"
        },
        "outputId": "64ff6ef1-1889-4dca-c0d8-e152b7a87382"
      },
      "outputs": [
        {
          "output_type": "stream",
          "name": "stdout",
          "text": [
            "Z = -6.999089450680221\n"
          ]
        }
      ],
      "source": [
        "np.random.seed(seed)\n",
        "a_slice_prev = np.random.randn(4, 4, 3)\n",
        "W = np.random.randn(4, 4, 3)\n",
        "b = np.random.randn(1, 1, 1)\n",
        "\n",
        "conv = Conv(filter_size=2, input_channel=3, output_channel=8, pad=2, stride=2)\n",
        "Z = conv.conv_single_step(a_slice_prev, W, b)\n",
        "print(\"Z =\", Z)\n",
        "\n",
        "np.random.seed(seed)\n",
        "a_slice_prev = np.random.randn(3, 3, 3)\n",
        "W = np.random.randn(3, 3, 3)\n",
        "b = np.random.randn(1, 1, 1)\n",
        "conv = Conv()\n",
        "Z = conv.conv_single_step(a_slice_prev, W, b)\n",
        "output[\"conv_single_step\"] = Z"
      ]
    },
    {
      "cell_type": "markdown",
      "metadata": {
        "id": "SVHY5VIFVLiC"
      },
      "source": [
        "Expected output: \n",
        "<table>\n",
        "  <tr>\n",
        "    <td>Z: </td>\n",
        "    <td>-6.999089450680221</td>\n",
        "  </tr>\n",
        "</table>"
      ]
    },
    {
      "cell_type": "markdown",
      "metadata": {
        "id": "764-uaZwLGNL"
      },
      "source": [
        "## 3.4 Forward pass\n",
        "In the forward pass, you will take many filters and convolve them through the input. Each 'convolution' gives you a 2D matrix output. You will then stack these outputs to get a 3D volume.\n",
        "\n",
        "Notice that the output shape of the convolution forward will be (H, W, C).\n",
        "* $H= \\lfloor\\frac{H_{prev }-f+2*pad}{stride}\\rfloor+1$\n",
        "* $W= \\lfloor\\frac{W_{prev }-f+2*pad}{stride}\\rfloor+1$\n",
        "* $C = $ number of filters\n",
        "\n",
        "f = filter_size\n",
        "\n",
        "**Exercise**: Implement forward( ) to convolve the filters W on an input activation A_prev. (15%)\n",
        "\n",
        "This function takes the following input:\n",
        "*   A_prev: the output of the activation by the previous layer, it's an array with shape (m, H_prev, W_prev, C_prev).\n",
        "    *  m: number of examples.\n",
        "    *  H_prev, W_prev, C_prev: the height, width, and channel of the output of the previous layer.\n",
        "\n",
        "Here are some steps for you to finish this exercise:\n",
        "1. Define **a_slice_prev**, which represent the input slice of conv_single_step( ).\n",
        "2. To define **a_slice_prev**, you have to define its' corners: **vert_start, vert_end, horiz_start and horiz_end**."
      ]
    },
    {
      "cell_type": "code",
      "execution_count": null,
      "metadata": {
        "id": "6Ags0LKKRQvH",
        "colab": {
          "base_uri": "https://localhost:8080/"
        },
        "outputId": "2a6e67c7-1396-41be-baa9-b0dc97d12107"
      },
      "outputs": [
        {
          "output_type": "stream",
          "name": "stdout",
          "text": [
            "Z's mean = 0.0031904169881830785\n",
            "Z[3,2,1] = [ 1.32947002  2.12083471  0.37853495 -3.53602735  1.38816885 -1.01503137\n",
            " -1.01667531  0.86993377]\n",
            "cache_conv[1][2][3] = [-0.20075807  0.18656139  0.41005165]\n"
          ]
        }
      ],
      "source": [
        "np.random.seed(seed)\n",
        "A_prev = np.random.randn(10,4,4,3)\n",
        "conv=Conv(filter_size=2, input_channel=3, output_channel=8, pad=2, stride=2)\n",
        "Z = conv.forward(A_prev)\n",
        "\n",
        "print(\"Z's mean =\", np.mean(Z))\n",
        "print(\"Z[3,2,1] =\", Z[3,2,1])\n",
        "print(\"cache_conv[1][2][3] =\", conv.cache[1][2][3])\n",
        "\n",
        "\n",
        "np.random.seed(seed)\n",
        "A_prev = np.random.randn(10,3,3,3)\n",
        "conv=Conv(filter_size=3, input_channel=3, output_channel=16, pad=1, stride=1)\n",
        "Z = conv.forward(A_prev)\n",
        "\n",
        "output[\"conv_forward_1\"] = np.mean(Z)\n",
        "output[\"conv_forward_2\"] = Z[3,2,1]\n",
        "output[\"conv_forward_3\"] = conv.cache[1][2][2]"
      ]
    },
    {
      "cell_type": "markdown",
      "metadata": {
        "id": "5qiBeJbhVTlU"
      },
      "source": [
        "Expected output: \n",
        "<table>\n",
        "  <tr>\n",
        "    <td>Z's mean: </td>\n",
        "    <td>0.0031904169881830785</td>\n",
        "  </tr>\n",
        "  <tr>\n",
        "    <td>Z[3,2,1]: </td>\n",
        "    <td>[ 1.32947002  2.12083471  0.37853495 -3.53602735  1.38816885 -1.01503137\n",
        " -1.01667531  0.86993377]</td>\n",
        "  </tr>\n",
        "  <tr>\n",
        "    <td>cache_conv[1][2][3]: </td>\n",
        "    <td>[-0.20075807  0.18656139  0.41005165]</td>\n",
        "  </tr>\n",
        "</table>"
      ]
    },
    {
      "cell_type": "markdown",
      "metadata": {
        "id": "bbGLz2F_ReRr"
      },
      "source": [
        "## 3.5 Update parameters\n",
        "In this section you will update the parameters of the convolution layer, using gradient descent:\n",
        "\n",
        "$$ W^{[l]} = W^{[l]} - \\alpha \\text{ } dW^{[l]} $$$$ b^{[l]} = b^{[l]} - \\alpha \\text{ } db^{[l]} $$\n",
        "\n",
        "**Exercise**: Implement update( ) to update your parameters using gradient descent. (1%)\n",
        "\n",
        "**Instructions**: \n",
        "*   Update parameters using gradient descent on $W^{[l]}$ and $b^{[l]}$.\n"
      ]
    },
    {
      "cell_type": "code",
      "execution_count": null,
      "metadata": {
        "id": "QOw8N6q7RgGU",
        "colab": {
          "base_uri": "https://localhost:8080/"
        },
        "outputId": "07555a10-4167-44ec-e07b-e34f0c494156"
      },
      "outputs": [
        {
          "output_type": "stream",
          "name": "stdout",
          "text": [
            "W[0][0][0] =  [-1.74691199  0.93719726 -0.21020825  0.78099448 -1.38718376  1.69938289\n",
            " -2.20823614  0.53308498]\n",
            "b =  [[[[ 0.34385368 -0.04359686  0.62000084 -0.69803203  0.44712856\n",
            "    -1.2245077  -0.40349164 -0.59357852]]]]\n"
          ]
        }
      ],
      "source": [
        "conv=Conv(filter_size=2, input_channel=3, output_channel=8, pad=2, stride=2)\n",
        "np.random.seed(seed)\n",
        "conv.dW = np.random.randn(2, 2, 3, 8)\n",
        "conv.db = np.random.randn(1, 1, 1, 8)\n",
        "conv.update(1.0)\n",
        "print(\"W[0][0][0] = \", conv.parameters[\"W\"][0][0][0])\n",
        "print(\"b = \", conv.parameters[\"b\"])\n",
        "\n",
        "conv=Conv(filter_size=3, input_channel=3, output_channel=8, pad=1, stride=2)\n",
        "np.random.seed(seed)\n",
        "conv.dW = np.random.randn(3, 3, 3, 8)\n",
        "conv.db = np.random.randn(1, 1, 1, 8)\n",
        "conv.update(0.1)\n",
        "output[\"conv_update_1\"] = conv.parameters[\"W\"][0][0][0]\n",
        "output[\"conv_update_2\"] = conv.parameters[\"b\"]\n"
      ]
    },
    {
      "cell_type": "markdown",
      "metadata": {
        "id": "3WBrdsS9RsTA"
      },
      "source": [
        "Expected output: \n",
        "<table>\n",
        "  <tr>\n",
        "    <td>W[0][0][0]: </td>\n",
        "    <td>[-1.74691199  0.93719726 -0.21020825  0.78099448 -1.38718376  1.69938289 -2.20823614  0.53308498]</td>\n",
        "  </tr>\n",
        "  <tr>\n",
        "    <td>b: </td>\n",
        "    <td>[[[[ 0.34385368 -0.04359686  0.62000084 -0.69803203  0.44712856\n",
        "    -1.2245077  -0.40349164 -0.59357852]]]]</td>\n",
        "  </tr>\n",
        "</table>"
      ]
    },
    {
      "cell_type": "markdown",
      "metadata": {
        "id": "goYhkmioRQvI"
      },
      "source": [
        "# 4. Maxpooling layer\n",
        "\n",
        "The pooling layer reduces the size (height and width) of the input. It helps reduce computation, as well as helps make feature detectors more invariant to their position in the input. In this section, we will focus on maxpooling layer."
      ]
    },
    {
      "cell_type": "code",
      "execution_count": null,
      "metadata": {
        "id": "Z8j9VErNRQvI"
      },
      "outputs": [],
      "source": [
        "class MaxPool():\n",
        "    def __init__(self, filter_size=2, stride=2):\n",
        "        \"\"\"\n",
        "        Argument:\n",
        "        self.parameters -- python dictionary containing your parameters:\n",
        "                           f -- size of a filter\n",
        "                           stride -- the amount of movement that a filter move in one step\n",
        "        \"\"\"\n",
        "    \n",
        "        self.parameters = {\"f\": filter_size, \"stride\": stride}\n",
        "        self.name=\"maxpool\"\n",
        "        \n",
        "        \n",
        "    def forward(self, A_prev):\n",
        "        \"\"\"\n",
        "        Implements the forward pass of the max pooling layer\n",
        "\n",
        "        Arguments:\n",
        "        A_prev -- Input data, numpy array of shape (m, n_H_prev, n_W_prev, n_C_prev)\n",
        "\n",
        "        Returns:\n",
        "        A -- output of the pool layer, a numpy array of shape (m, n_H, n_W, n_C)\n",
        "        \"\"\"\n",
        "\n",
        "        # GRADED FUNCTION: maxpool_forward\n",
        "        ### START CODE HERE ###\n",
        "        # Retrieve dimensions from the input shape. (≈1 line)\n",
        "        (m, n_H_prev, n_W_prev, n_C_prev) = A_prev.shape\n",
        "\n",
        "\n",
        "        # Define the dimensions of the output. (≈3 lines)\n",
        "        n_H = math.floor((n_H_prev - self.parameters[\"f\"] )/self.parameters[\"stride\"]) + 1\n",
        "        n_W = math.floor((n_W_prev - self.parameters[\"f\"] )/self.parameters[\"stride\"]) + 1\n",
        "        n_C = n_C_prev\n",
        "\n",
        "        # Initialize output matrix A with zeros. (≈1 line)\n",
        "        A = np.zeros((m, n_H, n_W, n_C))            \n",
        "\n",
        "        for i in range(m):                         # loop over the training examples\n",
        "            for h in range(n_H):                     # loop on the vertical axis of the output volume\n",
        "                for w in range(n_W):                 # loop on the horizontal axis of the output volume\n",
        "                    for c in range (n_C):            # loop over the channels of the output volume\n",
        "\n",
        "                        # Find the corners of the current \"slice\". (≈4 lines)\n",
        "                        vert_start = h * self.parameters[\"stride\"]\n",
        "                        vert_end = vert_start + self.parameters[\"f\"]\n",
        "                        horiz_start = w * self.parameters[\"stride\"]\n",
        "                        horiz_end = horiz_start + self.parameters[\"f\"]\n",
        "                        # Use the corners to define the current slice on the ith training example of A_prev, channel c. (≈1 line)\n",
        "                        a_prev_slice = A_prev[i, vert_start:vert_end, horiz_start:horiz_end, c]\n",
        "\n",
        "                        # Compute the max pooling operation on a_prev_slice. (≈1 line)\n",
        "                        A[i, h, w, c] = np.max(a_prev_slice)\n",
        "\n",
        "        ### END CODE HERE ###\n",
        "\n",
        "        # Store the input in \"cache\" for backward pass\n",
        "        self.cache = A_prev\n",
        "\n",
        "        # Making sure your output shape is correct\n",
        "        assert(A.shape == (m, n_H, n_W, n_C))\n",
        "\n",
        "        return A\n",
        "    \n",
        "    def create_mask_from_window(self, x):\n",
        "        \"\"\"\n",
        "        Creates a mask from an input x to identify the max entry of x.\n",
        "\n",
        "        Arguments:\n",
        "        x -- Array of shape (filter_size, filter_size)\n",
        "\n",
        "        Returns:\n",
        "        mask -- Array of the same shape as filter, contains a True at the position corresponding to the max entry of x.\n",
        "        \"\"\"\n",
        "\n",
        "        mask = x == np.max(x)\n",
        "\n",
        "        return mask\n",
        "    \n",
        "    def backward(self, dA):\n",
        "        \"\"\"\n",
        "        Implements the backward pass of the max pooling layer\n",
        "\n",
        "        Arguments:\n",
        "        dA -- gradient of cost with respect to the output of the pooling layer, same shape as A \n",
        "\n",
        "        Returns:\n",
        "        dA_prev -- gradient of cost with respect to the input of the pooling layer, same shape as A_prev\n",
        "        \"\"\"\n",
        "\n",
        "        # Retrieve information from cache\n",
        "        A_prev = self.cache\n",
        "\n",
        "        # Retrieve dimensions from A_prev's shape and dA's shape\n",
        "        m, n_H_prev, n_W_prev, n_C_prev = A_prev.shape\n",
        "        m, n_H, n_W, n_C = dA.shape\n",
        "\n",
        "        # Initialize dA_prev with zeros\n",
        "        dA_prev = np.zeros(A_prev.shape)\n",
        "\n",
        "        for i in range(m):  # loop over the training examples\n",
        "            # select training example from A_prev                    \n",
        "            a_prev = A_prev[i]\n",
        "            for h in range(n_H):   # loop on the vertical axis            \n",
        "                for w in range(n_W):  # loop on the horizontal axis             \n",
        "                    for c in range(n_C): # loop over the channels\n",
        "\n",
        "                        # Find the corners of the current \"slice\"          \n",
        "                        vert_start = h * self.parameters[\"stride\"]\n",
        "                        vert_end = vert_start + self.parameters[\"f\"]\n",
        "                        horiz_start = w * self.parameters[\"stride\"]\n",
        "                        horiz_end = horiz_start + self.parameters[\"f\"] \n",
        "\n",
        "                        #Use the corners and \"c\" to define the current slice from a_prev\n",
        "                        a_prev_slice = a_prev[vert_start:vert_end, horiz_start:horiz_end, c]\n",
        "                        # Create the mask from a_prev_slice\n",
        "                        mask = self.create_mask_from_window(a_prev_slice)\n",
        "                        # Set dA_prev to be dA_prev + (the mask multiplied by the correct entry of dA)\n",
        "                        dA_prev[i, vert_start:vert_end, horiz_start:horiz_end, c] += np.multiply(mask, dA[i, h, w, c])\n",
        "\n",
        "\n",
        "\n",
        "        # Make sure your output shape is correct\n",
        "        assert(dA_prev.shape == A_prev.shape)\n",
        "\n",
        "        return dA_prev\n",
        "\n"
      ]
    },
    {
      "cell_type": "markdown",
      "metadata": {
        "id": "YXSF-PhOxauK"
      },
      "source": [
        "## 4.1 Forward pass\n",
        "\n",
        "It will take following parameters to initialize a max pooling layer:\n",
        "*   filter_size: the filter will be in the shape of (filter_size*filter_size)\n",
        "*   stride: the amount of movement that a filter move in one step\n",
        "\n",
        "In the forward pass, you will slide a ( f*f ) filter over the input and store the max value of the window in the output. (f means the filter size)\n",
        "\n",
        "Notice that the output shape of the forward pass will be (H, W, C).\n",
        "* $H= \\lfloor\\frac{H_{prev }-f}{stride}\\rfloor+1$\n",
        "* $W= \\lfloor\\frac{W_{prev }-f}{stride}\\rfloor+1$\n",
        "* $C = C_{prev}$\n",
        "\n",
        "**Exercise**: Create a max pooling layer and implement the forward pass of the pooling layer. (15%)\n",
        "\n",
        "This forward function takes the following input:\n",
        "*   A_prev: the output of the previous layer, it's an array with shape (m, H_prev, W_prev, C_prev).\n",
        "\n",
        "\n",
        "\n",
        "\n"
      ]
    },
    {
      "cell_type": "code",
      "execution_count": null,
      "metadata": {
        "id": "BpL0HQvQRQvJ",
        "colab": {
          "base_uri": "https://localhost:8080/"
        },
        "outputId": "a6765401-d07d-452f-8f9b-cb981e8a21c4"
      },
      "outputs": [
        {
          "output_type": "stream",
          "name": "stdout",
          "text": [
            "A = [[[[1.74481176 0.86540763 1.13376944]]]\n",
            "\n",
            "\n",
            " [[[1.13162939 1.51981682 2.18557541]]]]\n"
          ]
        }
      ],
      "source": [
        "np.random.seed(seed)\n",
        "A_prev = np.random.randn(2, 4, 4, 3)\n",
        "maxpool=MaxPool(filter_size=3, stride=2)\n",
        "A = maxpool.forward(A_prev)\n",
        "print(\"A =\", A)\n",
        "\n",
        "A_prev = np.random.randn(2, 5, 5, 3)\n",
        "maxpool=MaxPool(filter_size=2, stride=1)\n",
        "A = maxpool.forward(A_prev)\n",
        "output[\"maxpool_forward\"] = A"
      ]
    },
    {
      "cell_type": "markdown",
      "metadata": {
        "id": "9vcEzFinVYHP"
      },
      "source": [
        "Expected output: \n",
        "<table>\n",
        "  <tr>\n",
        "    <td>A: </td>\n",
        "    <td>[[[[1.74481176 0.86540763 1.13376944]]] [[[1.13162939 1.51981682 2.18557541]]]]</td>\n",
        "  </tr>\n",
        "</table>"
      ]
    },
    {
      "cell_type": "markdown",
      "metadata": {
        "id": "Wn-VBGGURQvJ"
      },
      "source": [
        "# 5. Flatten layer"
      ]
    },
    {
      "cell_type": "markdown",
      "metadata": {
        "id": "cJN7EvSuaKGW"
      },
      "source": [
        "To connect the convolution layer and the dense layer, you should flatten the output of the convolution layer or max pooling layer before dense layer."
      ]
    },
    {
      "cell_type": "code",
      "execution_count": null,
      "metadata": {
        "id": "2-F3jskjRQvK"
      },
      "outputs": [],
      "source": [
        "class Flatten():\n",
        "    def __init__(self):\n",
        "        self.name=\"flatten\"\n",
        "\n",
        "    def forward(self, A_prev):\n",
        "        \"\"\"\n",
        "        Implements the forward pass of the flatten layer\n",
        "\n",
        "        Arguments:\n",
        "        A_prev -- Input data, numpy array of shape (m, n_H_prev, n_W_prev, n_C_prev)\n",
        "\n",
        "        Returns:\n",
        "        A -- output of the flatten layer, a 1-dimensional array\n",
        "        \"\"\"\n",
        "\n",
        "        # Save information in \"cache\" for the backward pass\n",
        "        self.cache = A_prev[0].shape\n",
        "\n",
        "        # GRADED FUNCTION: flatten_forward\n",
        "        ### START CODE HERE ### (≈1 line)\n",
        "        A = A_prev.reshape((A_prev.shape[0] , A_prev.shape[1] * A_prev.shape[2] * A_prev.shape[3]))\n",
        "        ### END CODE HERE ###\n",
        "        return A\n",
        "\n",
        "    def backward(self, dA):\n",
        "        \"\"\"\n",
        "        Implements the backward pass of the flatten layer\n",
        "\n",
        "        Arguments:\n",
        "        dA -- Input data, a 1-dimensional array\n",
        "\n",
        "        Returns:\n",
        "        dA_prev -- An array with its original shape (the output shape of its' previous layer).\n",
        "        \"\"\"\n",
        "        # GRADED FUNCTION: flatten_backward\n",
        "        ### START CODE HERE ### (≈1 line)\n",
        "        dA_prev = dA.reshape((dA.shape[0], self.cache[0], self.cache[1], self.cache[2]))\n",
        "        ### END CODE HERE ###\n",
        "        return dA_prev"
      ]
    },
    {
      "cell_type": "markdown",
      "metadata": {
        "id": "5Haf0l4nau3y"
      },
      "source": [
        "## 5.1 Forward pass\n",
        "\n",
        "**Exercise**: Implement the forward pass of flatten layer. Turn the input array into a 1-dimensional array. (5%)\n",
        "\n",
        "This function takes the following input:\n",
        "*   A_prev: Input data, it's an array with shape (m, n_H_prev, n_W_prev, n_C_prev).\n"
      ]
    },
    {
      "cell_type": "code",
      "execution_count": null,
      "metadata": {
        "id": "TF96C0Fyat_4",
        "colab": {
          "base_uri": "https://localhost:8080/"
        },
        "outputId": "ddab6f85-7815-463e-9b06-6b5fdfb30c7b"
      },
      "outputs": [
        {
          "output_type": "stream",
          "name": "stdout",
          "text": [
            "A.shape = (2, 8)\n",
            "A[0] = [ 1.62434536 -0.61175641 -0.52817175 -1.07296862  0.86540763 -2.3015387\n",
            "  1.74481176 -0.7612069 ]\n"
          ]
        }
      ],
      "source": [
        "np.random.seed(seed)\n",
        "A_prev = np.random.randn(2,2,2,2)\n",
        "flatten = Flatten()\n",
        "A = flatten.forward(A_prev)\n",
        "print(\"A.shape =\", A.shape)\n",
        "print(\"A[0] =\", A[0])\n",
        "\n",
        "\n",
        "np.random.seed(seed)\n",
        "A_prev = np.random.randn(2,3,3,2)\n",
        "flatten = Flatten()\n",
        "A = flatten.forward(A_prev)\n",
        "output[\"flatten_forward\"] = A[0]"
      ]
    },
    {
      "cell_type": "markdown",
      "metadata": {
        "id": "Rq3qbOjiVhjj"
      },
      "source": [
        "Expected output: \n",
        "<table>\n",
        "  <tr>\n",
        "    <td>A.shape: </td>\n",
        "    <td>(2, 8)</td>\n",
        "  </tr>\n",
        "  <tr>\n",
        "    <td>A[0]: </td>\n",
        "    <td>[ 1.62434536 -0.61175641 -0.52817175 -1.07296862  0.86540763 -2.3015387\n",
        "  1.74481176 -0.7612069 ]</td>\n",
        "  </tr>\n",
        "</table>"
      ]
    },
    {
      "cell_type": "markdown",
      "metadata": {
        "id": "qdWPIB6_a8_n"
      },
      "source": [
        "## 5.2  Backward pass\n",
        "\n",
        "**Exercise**: Implement the backward pass of flatten layer. Turn the input array back to its original shape.(the output shape of its' previous layer). (5%)\n",
        "\n",
        "This function takes the following input:\n",
        "*   dA: the output of backward pass from the next layer, it's a 1-dimensional array."
      ]
    },
    {
      "cell_type": "code",
      "execution_count": null,
      "metadata": {
        "id": "dY8vpJPLauWd",
        "colab": {
          "base_uri": "https://localhost:8080/"
        },
        "outputId": "eb241351-3703-450f-cd76-043a79850e28"
      },
      "outputs": [
        {
          "output_type": "stream",
          "name": "stdout",
          "text": [
            "B.shape = (2, 2, 2, 2)\n",
            "B[0] = [[[ 1.62434536 -0.61175641]\n",
            "  [-0.52817175 -1.07296862]]\n",
            "\n",
            " [[ 0.86540763 -2.3015387 ]\n",
            "  [ 1.74481176 -0.7612069 ]]]\n"
          ]
        }
      ],
      "source": [
        "np.random.seed(seed)\n",
        "A_prev = np.random.randn(2,2,2,2)\n",
        "flatten = Flatten()\n",
        "A = flatten.forward(A_prev)\n",
        "B = flatten.backward(A)\n",
        "print(\"B.shape =\", B.shape)\n",
        "print(\"B[0] =\", B[0])\n",
        "\n",
        "# B and A_prev should be same\n",
        "assert((B==A_prev).all())\n",
        "\n",
        "np.random.seed(seed)\n",
        "A_prev = np.random.randn(4,3,3,3)\n",
        "flatten = Flatten()\n",
        "A = flatten.forward(A_prev)\n",
        "B = flatten.backward(A)\n",
        "output[\"flatten_backward\"] = B[0]\n",
        "\n"
      ]
    },
    {
      "cell_type": "markdown",
      "metadata": {
        "id": "3khMiPehVjIV"
      },
      "source": [
        "Expected output: \n",
        "<table>\n",
        "  <tr>\n",
        "    <td>B.shape: </td>\n",
        "    <td>(2, 2, 2, 2)</td>\n",
        "  </tr>\n",
        "  <tr>\n",
        "    <td>B[0]: </td>\n",
        "    <td>[[[ 1.62434536 -0.61175641]\n",
        "  [-0.52817175 -1.07296862]]\n",
        "  [[ 0.86540763 -2.3015387 ]\n",
        "  [ 1.74481176 -0.7612069 ]]]</td>\n",
        "  </tr>\n",
        "</table>"
      ]
    },
    {
      "cell_type": "markdown",
      "metadata": {
        "id": "RYqpQu6Eye7h"
      },
      "source": [
        "# 6. Model\n",
        "Alright, now you have all the tools that are needed to build a convolutional neural network. Let's get started! Use the knowledge you learned from assignment 4 to finish this part. But there is some difference:\n",
        "\n",
        "1. In this part, we will call model.add( ) to add a layer into the model. For example:\n",
        "* model.add(Conv( )): add a convolution layer into the model.\n",
        "* model.add(Dense( )): add a dense layer into the model.\n",
        "* model.add(Activation( )): add an activation layer into the model.\n",
        "\n",
        "2. Because the dense layer you implement in assignment3 takes the input shape as [:, m], where m represents the number of examples. However, when the training data go through the convolution layer and maxpool layer, its shape will be [m,:]. As a consequence, in the forward pass, the output of flatten.forward( ) need to be transposed. Similarly, in the backward pass, before the data goes into flatten.backward( ), it needs to be transposed again.\n"
      ]
    },
    {
      "cell_type": "code",
      "execution_count": null,
      "metadata": {
        "id": "7dWrCCkPRQvK"
      },
      "outputs": [],
      "source": [
        "class Model():\n",
        "    def __init__(self):       \n",
        "        self.layers=[]\n",
        "\n",
        "    def add(self, layer):\n",
        "        self.layers.append(layer)\n",
        "\n",
        "    def forward(self, X):\n",
        "        A = X\n",
        "        # GRADED FUNCTION: model\n",
        "        ### START CODE HERE ### (≈ 5 lines)\n",
        "        for l in range(len(self.layers)):\n",
        "            if(self.layers[l].name==\"flatten\"):\n",
        "                A=self.layers[l].forward(A).T # Transpose after flatten layer\n",
        "            else:\n",
        "                A = self.layers[l].forward(A)\n",
        "        ### END CODE HERE ###\n",
        "        return A\n",
        "\n",
        "    def backward(self, AL=None, Y=None):\n",
        "        L = len(self.layers)\n",
        "\n",
        "        # GRADED FUNCTION: model\n",
        "        ### START CODE HERE ### (≈ 7 lines)\n",
        "        ϵ = 1e-5\n",
        "        if self.layers[-1].name == \"sigmoid\":\n",
        "            dAL = -(np.divide(Y, AL + ϵ) - np.divide(1 - Y, 1 - AL + ϵ))\n",
        "            dZ = self.layers[-1].backward(dA=dAL)  #activation layer backward\n",
        "            dA_prev = self.layers[-2].backward(dZ) #linear layer backward\n",
        "        else:\n",
        "            dZ = self.layers[-1].backward(Y=Y)\n",
        "            dA_prev = self.layers[-2].backward(dZ)\n",
        "        ### END CODE HERE ###\n",
        "\n",
        "        \n",
        "        # Loop from l=L-3 to l=0\n",
        "        # GRADED FUNCTION: model\n",
        "        ### START CODE HERE ### (≈ 5 lines)\n",
        "        for l in reversed(range(L-2)):\n",
        "            if(self.layers[l].name==\"flatten\"):\n",
        "                dA_prev=self.layers[l].backward(dA_prev.T) # Transpose before goes into flatten layer\n",
        "            else:\n",
        "                dA_prev=self.layers[l].backward(dA_prev)\n",
        "        ### END CODE HERE ###\n",
        "\n",
        "        return dA_prev\n",
        "\n",
        "    def update(self, learning_rate):\n",
        "        \"\"\"\n",
        "        Arguments:\n",
        "        learning_rate -- step size\n",
        "        \"\"\"\n",
        "        \n",
        "        # GRADED FUNCTION: model\n",
        "        # Only convolution layer and dense layer have to update parameters\n",
        "        ### START CODE HERE ### (≈ 3 lines)\n",
        "        for l in range(len(self.layers)):\n",
        "            if(self.layers[l].name==\"dense\"):\n",
        "                A=self.layers[l].update(learning_rate)\n",
        "            elif(self.layers[l].name==\"conv\"):\n",
        "                A = self.layers[l].update(learning_rate)\n",
        "        ### END CODE HERE ###\n",
        "        "
      ]
    },
    {
      "cell_type": "markdown",
      "metadata": {
        "id": "36my0zWnlv3K"
      },
      "source": [
        "## 6.1 Model forward, backward and update:\n",
        "**Exercise**: Here is an exercise to make sure your model works correctly. (5%)"
      ]
    },
    {
      "cell_type": "code",
      "execution_count": null,
      "metadata": {
        "id": "gN-8NQ_KRQvK",
        "colab": {
          "base_uri": "https://localhost:8080/"
        },
        "outputId": "0d99aa82-9c44-458e-9402-727b27d89c25"
      },
      "outputs": [
        {
          "output_type": "stream",
          "name": "stdout",
          "text": [
            "[ 0.36135339 -0.08462337 -0.00125603 -0.75846791 -0.10766644 -0.30566005\n",
            " -0.6160899   0.17289454]\n",
            "[[[[-0.17413437 -1.16136976  2.2091218   1.09197293  1.09878206\n",
            "    -0.99630691  2.22696487 -0.20973624]]]]\n",
            "[-2.14606176 -0.75085187 -1.19750975 -0.8916535  -0.91436404 -0.76753\n",
            " -1.30207298 -0.52670234]\n",
            "[[-0.47493517]]\n"
          ]
        }
      ],
      "source": [
        "np.random.seed(seed)\n",
        "A = np.random.randn(4,10,10,3)\n",
        "Y = np.array([[1,0,1,0]])\n",
        "\n",
        "model=Model()\n",
        "model.add(Conv(filter_size=3, input_channel=3, output_channel=8, pad=1, stride=2))\n",
        "model.add(Activation(\"relu\"))\n",
        "model.add(MaxPool(filter_size=2, stride=2))\n",
        "model.add(Flatten())\n",
        "model.add(Dense(32, 1))\n",
        "model.add(Activation(\"sigmoid\"))\n",
        "\n",
        "\n",
        "AL = model.forward(A)\n",
        "dA_prev = model.backward(AL=AL, Y=Y)\n",
        "model.update(0.01)\n",
        "\n",
        "print(model.layers[0].dW[0,0,0])\n",
        "print(model.layers[0].db)\n",
        "print(model.layers[4].dW[0,:8])\n",
        "print(model.layers[4].db)\n",
        "\n",
        "\n",
        "np.random.seed(seed)\n",
        "A = np.random.randn(4,8,8,3)\n",
        "Y = np.array([[1,1,0,0]])\n",
        "\n",
        "model=Model()\n",
        "model.add(Conv(filter_size=3, input_channel=3, output_channel=16, pad=1, stride=2))\n",
        "model.add(Activation(\"relu\"))\n",
        "model.add(MaxPool(filter_size=2, stride=2))\n",
        "model.add(Flatten())\n",
        "model.add(Dense(64, 1))\n",
        "model.add(Activation(\"sigmoid\"))\n",
        "\n",
        "\n",
        "AL = model.forward(A)\n",
        "dA_prev = model.backward(AL=AL, Y=Y)\n",
        "model.update(0.001)\n",
        "\n",
        "output[\"model_1\"] = model.layers[0].dW[0,0,0]\n",
        "output[\"model_2\"] = model.layers[0].db\n",
        "output[\"model_3\"] = model.layers[4].dW[0,:8]\n",
        "output[\"model_4\"] = model.layers[4].db"
      ]
    },
    {
      "cell_type": "markdown",
      "metadata": {
        "id": "vGTtpnWcVvce"
      },
      "source": [
        "Expected output: \n",
        "<table>\n",
        "  <tr>\n",
        "    <td>model.layers[0].dW[0,0,0]: </td>\n",
        "    <td>[ 0.36135339 -0.08462337 -0.00125603 -0.75846791 -0.10766644 -0.30566005\n",
        " -0.6160899   0.17289454]</td>\n",
        "  </tr>\n",
        "  <tr>\n",
        "    <td>model.layers[0].db: </td>\n",
        "    <td>[[[[-0.17413437 -1.16136976  2.2091218   1.09197293  1.09878206\n",
        "    -0.99630691  2.22696487 -0.20973624]]]]</td>\n",
        "  </tr>\n",
        "  <tr>\n",
        "    <td>model.layers[4].dW[0,:8]: </td>\n",
        "    <td>[-2.14606176 -0.75085187 -1.19750975 -0.8916535  -0.91436404 -0.76753\n",
        " -1.30207298 -0.52670234]</td>\n",
        "  </tr>\n",
        "  <tr>\n",
        "    <td>model.layers[4].db: </td>\n",
        "    <td>[[-0.47493517]]</td>\n",
        "  </tr>\n",
        "</table>"
      ]
    },
    {
      "cell_type": "markdown",
      "metadata": {
        "id": "9EC0qy26RQvN"
      },
      "source": [
        "# 7. Binary classification\n",
        "\n",
        "Congratulations on implementing all the functions by yourself. You have done an incredible job! 👏\n",
        "\n",
        "Now you have all the tools you need to get started with classification. In this section, you will build a binary classifier using the functions you had previously written. You will create a model that can determine whether a CXR image is normal or not. There will be 600 training images and 60 testing images, and the size of all images are 32 * 32 * 1.\n",
        "\n",
        "\n",
        "**Exercise**: Implement a binary classifier and tune the hyperparameter. You will get all 10% if your prediction achieves accuracy greater than 0.55 in testing data. (10%)\n",
        "\n",
        "**Instruction**:\n",
        "*   You can only use the functions you had previously written.\n",
        "*   Preprocess the data by using min-max scaling to normalize X. Normalize the values of each feature between 0 and 1.\n",
        "*   Use batch gradient descent to train the model.\n",
        "\n"
      ]
    },
    {
      "cell_type": "markdown",
      "metadata": {
        "id": "K2X2fb7aoJTg"
      },
      "source": [
        "## 7.1 Data preprocessing"
      ]
    },
    {
      "cell_type": "code",
      "execution_count": null,
      "metadata": {
        "id": "QWHxt5cDZ9mg"
      },
      "outputs": [],
      "source": [
        "PATH = \"/content/drive/MyDrive/Training_data\"  #path to your training image\n",
        "file_dir = os.listdir(PATH) #read the images from the directory\n",
        "file_dir.sort() #Make sure the images are loaded in order\n",
        "X_train = np.array([])\n",
        "\n",
        "# Prepare X_train\n",
        "# The shape of X_train will be (number of examples, height of image, width of image, channel of image)\n",
        "# GRADED CODE: Binary classification (Data preprocessing)\n",
        "# hint: use imread(PATH, IMREAD_GRAYSCALE) to load image\n",
        "### START CODE HERE ### (≈ 9 line)\n",
        "train = []\n",
        "for file in file_dir:\n",
        "  path = PATH + \"/\" + file\n",
        "  # print(path)\n",
        "  img = imread(path, IMREAD_GRAYSCALE)\n",
        "  img = img[:, :, np.newaxis]\n",
        "  # print(img.shape)\n",
        "  train.append(img)\n",
        "X_train = np.array(train)\n",
        "# print(X_train.shape)\n",
        "min_params = X_train.min()\n",
        "max_params = X_train.max()\n",
        "X_train = (X_train - min_params) / (max_params- min_params)\n",
        "# print(X_train.max())\n",
        "# print(X_train.min())\n",
        "# print(X_train.shape)\n",
        "### END CODE HERE ###\n",
        "        \n",
        "\n",
        "\n"
      ]
    },
    {
      "cell_type": "code",
      "execution_count": null,
      "metadata": {
        "id": "I527tbN2_Obg"
      },
      "outputs": [],
      "source": [
        "PATH = \"/content/drive/MyDrive/Testing_data\"  #path to your testing image\n",
        "file_dir = os.listdir(PATH)\n",
        "file_dir.sort()\n",
        "X_test = np.array([])\n",
        "\n",
        "# Prepare X_test\n",
        "# The shape of X_teset will be (number of examples, height of image, width of image, channel of image)\n",
        "# GRADED CODE: Binary classification (Data preprocessing)\n",
        "### START CODE HERE ### (≈ 9 line)\n",
        "test = []\n",
        "for file in file_dir:\n",
        "  path = PATH + \"/\" + file\n",
        "  # print(path)\n",
        "  img = imread(path, IMREAD_GRAYSCALE)\n",
        "  img = img[:, :, np.newaxis]\n",
        "  # print(img.shape)\n",
        "  test.append(img)\n",
        "X_test = np.array(test)\n",
        "\n",
        "min_params = X_test.min()\n",
        "max_params = X_test.max()\n",
        "X_test = (X_test - min_params) / (max_params- min_params)\n",
        "# print(X_test.max())\n",
        "# print(X_test.min())\n",
        "# print(X_test.shape)\n",
        "\n",
        "### END CODE HERE ###\n",
        "        \n",
        "\n",
        "\n"
      ]
    },
    {
      "cell_type": "code",
      "execution_count": null,
      "metadata": {
        "id": "bxaslew_lkKY"
      },
      "outputs": [],
      "source": [
        "data = read_csv(\"Training_label.csv\")\n",
        "\n",
        "y_train = []\n",
        "# Prepare y_train\n",
        "# The shape of y_train will be (number of examples, 1), we will transpose y_train latter.\n",
        "# GRADED CODE: Binary classification (Data preprocessing)\n",
        "### START CODE HERE ### (≈ 2 line)\n",
        "for i in data[\"label\"]:\n",
        "  y_train.append(i)\n",
        "\n",
        "y_train = np.array(y_train)\n",
        "y_train = y_train.reshape(-1,1)\n",
        "# print(data)\n",
        "### END CODE HERE ###\n",
        "\n"
      ]
    },
    {
      "cell_type": "code",
      "execution_count": null,
      "metadata": {
        "id": "iwhza4gUboQ6",
        "colab": {
          "base_uri": "https://localhost:8080/"
        },
        "outputId": "56f02748-ab03-4fd2-be64-b19695c51f21"
      },
      "outputs": [
        {
          "output_type": "stream",
          "name": "stdout",
          "text": [
            "(1, 540)\n"
          ]
        }
      ],
      "source": [
        "from sklearn.model_selection import train_test_split\n",
        "#You can split training and validation set here. (Optional)\n",
        "### START CODE HERE ###\n",
        "X_training, X_val, y_training, y_val = train_test_split(X_train, y_train, test_size=0.1, shuffle=False)\n",
        "y_training = y_training.T\n",
        "y_val = y_val.T\n",
        "print(y_training.shape)\n",
        "### END CODE HERE ###"
      ]
    },
    {
      "cell_type": "code",
      "execution_count": null,
      "metadata": {
        "id": "wKkOpp6uyCQY",
        "colab": {
          "base_uri": "https://localhost:8080/",
          "height": 303
        },
        "outputId": "8c027bbe-3152-41ff-d6f8-f1c4df8bbb95"
      },
      "outputs": [
        {
          "output_type": "display_data",
          "data": {
            "text/plain": [
              "<Figure size 432x288 with 9 Axes>"
            ],
            "image/png": "[encoded data removed]"
          },
          "metadata": {
            "needs_background": "light"
          }
        },
        {
          "output_type": "stream",
          "name": "stdout",
          "text": [
            "Train: X=(600, 32, 32, 1), y=(1, 600)\n",
            "Test: X=(60, 32, 32, 1)\n"
          ]
        }
      ],
      "source": [
        "y_train = y_train.T #transpose y_train\n",
        "\n",
        "# plot first few images\n",
        "for i in range(9):\n",
        "    # define subplot\n",
        "    plt.subplot(330 + 1 + i)\n",
        "    # plot raw pixel data\n",
        "    plt.imshow(X_train[i].squeeze(), cmap='gray', vmin=0, vmax=1)\n",
        "# show the figure\n",
        "plt.show()\n",
        "\n",
        "# check the shape of training data and testing data\n",
        "print('Train: X=%s, y=%s' % (X_train.shape, y_train.shape))\n",
        "print('Test: X=%s' % (X_test.shape, ))"
      ]
    },
    {
      "cell_type": "markdown",
      "metadata": {
        "id": "qdK9_gnZAjYD"
      },
      "source": [
        "## 7.2 mini-batch gradient descent"
      ]
    },
    {
      "cell_type": "code",
      "execution_count": null,
      "metadata": {
        "id": "LVTeqK9TqMwP"
      },
      "outputs": [],
      "source": [
        "def random_mini_batches(X, Y, mini_batch_size = 64):\n",
        "    \"\"\"\n",
        "    Creates a list of random minibatches from (X, Y)\n",
        "    \n",
        "    Arguments:\n",
        "    X -- input data, of shape !!!!!!!!!!!(number of examples ,input size)!!!!!!!!!!!\n",
        "    Y -- true \"label\" vector, of shape (number of classes, number of examples)\n",
        "    mini_batch_size -- size of the mini-batches, integer\n",
        "    \n",
        "    Returns:\n",
        "    mini_batches -- list of synchronous (mini_batch_X, mini_batch_Y)\n",
        "    \"\"\"\n",
        "    \n",
        "    m = X.shape[0]  # number of training examples\n",
        "    mini_batches = []\n",
        "\n",
        "    # GRADED CODE: Binary classification\n",
        "    ### START CODE HERE ###\n",
        "        \n",
        "    # Step 1: Shuffle (X, Y)\n",
        "    permutation = list(np.random.permutation(m))\n",
        "    # print(permutation)\n",
        "    shuffled_X = X[permutation,:] #(number of examples ,input size)\n",
        "    shuffled_Y = Y[:,permutation].T #(number of classes, number of examples)\n",
        "    # print(shuffled_Y.shape)\n",
        "\n",
        "    \n",
        "    inc = mini_batch_size\n",
        "\n",
        "    # Step 2 - Partition (shuffled_X, shuffled_Y).\n",
        "    # Cases with a complete mini batch size only i.e each of 64 examples.\n",
        "    num_complete_minibatches = math.floor(m / mini_batch_size) # number of mini batches of size mini_batch_size in your partitionning\n",
        "    for k in range(0, num_complete_minibatches):\n",
        "        # (approx. 2 lines)\n",
        "        start = k*inc\n",
        "        end = (k+1)*inc\n",
        "        mini_batch_X = shuffled_X[start:end]\n",
        "        mini_batch_Y = shuffled_Y[start:end].T\n",
        "        mini_batch = (mini_batch_X, mini_batch_Y)\n",
        "        mini_batches.append(mini_batch)\n",
        "    \n",
        "    # For handling the end case (last mini-batch < mini_batch_size i.e less than 64)\n",
        "    if m % mini_batch_size != 0:\n",
        "        #(approx. 2 lines)\n",
        "        start = num_complete_minibatches*mini_batch_size\n",
        "        end = m\n",
        "        mini_batch_X = shuffled_X[start:end]\n",
        "        mini_batch_Y = shuffled_Y[start:end].T\n",
        "        mini_batch = (mini_batch_X, mini_batch_Y)\n",
        "        mini_batches.append(mini_batch)\n",
        "    \n",
        "    \n",
        "    return mini_batches\n",
        "\n",
        "    ### END CODE HERE ###\n",
        "# random_mini_batches(X_train, y_train, mini_batch_size = 64)"
      ]
    },
    {
      "cell_type": "markdown",
      "metadata": {
        "id": "5FIrnqYMFGRq"
      },
      "source": [
        "## 7.3 Start training"
      ]
    },
    {
      "cell_type": "code",
      "execution_count": null,
      "metadata": {
        "id": "1CBktduDyKd6",
        "colab": {
          "base_uri": "https://localhost:8080/",
          "height": 1000
        },
        "outputId": "ca75069e-c070-4754-d264-71c1a3160559"
      },
      "outputs": [
        {
          "output_type": "stream",
          "name": "stdout",
          "text": [
            "epoch:  0\n",
            "Cost after iteration 0: 0.688696\n",
            "epoch:  1\n",
            "Cost after iteration 1: 0.644642\n",
            "epoch:  2\n",
            "Cost after iteration 2: 0.620311\n",
            "epoch:  3\n",
            "Cost after iteration 3: 0.646548\n",
            "epoch:  4\n",
            "Cost after iteration 4: 0.663758\n",
            "epoch:  5\n",
            "Cost after iteration 5: 0.622991\n",
            "epoch:  6\n",
            "Cost after iteration 6: 0.500704\n",
            "epoch:  7\n",
            "Cost after iteration 7: 0.692609\n",
            "epoch:  8\n",
            "Cost after iteration 8: 0.612790\n",
            "epoch:  9\n",
            "Cost after iteration 9: 0.586017\n",
            "epoch:  10\n",
            "Cost after iteration 10: 0.596355\n",
            "epoch:  11\n",
            "Cost after iteration 11: 0.620223\n",
            "epoch:  12\n",
            "Cost after iteration 12: 0.656822\n",
            "epoch:  13\n",
            "Cost after iteration 13: 0.540555\n",
            "epoch:  14\n",
            "Cost after iteration 14: 0.470312\n",
            "epoch:  15\n",
            "Cost after iteration 15: 0.652529\n",
            "epoch:  16\n",
            "Cost after iteration 16: 0.495346\n",
            "epoch:  17\n",
            "Cost after iteration 17: 0.427770\n",
            "epoch:  18\n",
            "Cost after iteration 18: 0.600555\n",
            "epoch:  19\n",
            "Cost after iteration 19: 0.785543\n",
            "epoch:  20\n",
            "Cost after iteration 20: 0.543256\n",
            "epoch:  21\n",
            "Cost after iteration 21: 0.505667\n",
            "epoch:  22\n",
            "Cost after iteration 22: 0.389279\n",
            "epoch:  23\n",
            "Cost after iteration 23: 0.535372\n",
            "epoch:  24\n",
            "Cost after iteration 24: 0.468420\n",
            "epoch:  25\n",
            "Cost after iteration 25: 0.529817\n",
            "epoch:  26\n",
            "Cost after iteration 26: 0.444327\n",
            "epoch:  27\n",
            "Cost after iteration 27: 0.312644\n",
            "epoch:  28\n",
            "Cost after iteration 28: 0.344821\n",
            "epoch:  29\n",
            "Cost after iteration 29: 0.532410\n",
            "epoch:  30\n",
            "Cost after iteration 30: 0.541651\n",
            "epoch:  31\n",
            "Cost after iteration 31: 0.629140\n",
            "epoch:  32\n",
            "Cost after iteration 32: 0.597650\n",
            "epoch:  33\n",
            "Cost after iteration 33: 0.471049\n",
            "epoch:  34\n",
            "Cost after iteration 34: 0.498910\n",
            "epoch:  35\n",
            "Cost after iteration 35: 0.500132\n",
            "epoch:  36\n",
            "Cost after iteration 36: 0.583023\n",
            "epoch:  37\n",
            "Cost after iteration 37: 0.401951\n",
            "epoch:  38\n",
            "Cost after iteration 38: 0.484555\n",
            "epoch:  39\n",
            "Cost after iteration 39: 0.678403\n",
            "epoch:  40\n",
            "Cost after iteration 40: 0.624754\n",
            "epoch:  41\n",
            "Cost after iteration 41: 0.328983\n",
            "epoch:  42\n",
            "Cost after iteration 42: 0.454341\n",
            "epoch:  43\n",
            "Cost after iteration 43: 0.443275\n",
            "epoch:  44\n",
            "Cost after iteration 44: 0.391482\n",
            "epoch:  45\n",
            "Cost after iteration 45: 0.540701\n",
            "epoch:  46\n",
            "Cost after iteration 46: 0.423923\n",
            "epoch:  47\n",
            "Cost after iteration 47: 0.456723\n",
            "epoch:  48\n",
            "Cost after iteration 48: 0.358287\n",
            "epoch:  49\n",
            "Cost after iteration 49: 0.455475\n",
            "epoch:  50\n",
            "Cost after iteration 50: 0.425145\n",
            "epoch:  51\n",
            "Cost after iteration 51: 0.383482\n",
            "epoch:  52\n",
            "Cost after iteration 52: 0.485387\n",
            "epoch:  53\n",
            "Cost after iteration 53: 0.507232\n",
            "epoch:  54\n",
            "Cost after iteration 54: 0.430343\n",
            "epoch:  55\n",
            "Cost after iteration 55: 0.517085\n",
            "epoch:  56\n",
            "Cost after iteration 56: 0.413853\n",
            "epoch:  57\n",
            "Cost after iteration 57: 0.445502\n",
            "epoch:  58\n",
            "Cost after iteration 58: 0.466623\n",
            "epoch:  59\n",
            "Cost after iteration 59: 0.467277\n",
            "epoch:  60\n",
            "Cost after iteration 60: 0.299720\n",
            "epoch:  61\n",
            "Cost after iteration 61: 0.466960\n",
            "epoch:  62\n",
            "Cost after iteration 62: 0.318674\n",
            "epoch:  63\n",
            "Cost after iteration 63: 0.442716\n",
            "epoch:  64\n",
            "Cost after iteration 64: 0.381508\n",
            "epoch:  65\n",
            "Cost after iteration 65: 0.584945\n",
            "epoch:  66\n",
            "Cost after iteration 66: 0.458660\n",
            "epoch:  67\n",
            "Cost after iteration 67: 0.375185\n",
            "epoch:  68\n",
            "Cost after iteration 68: 0.465502\n",
            "epoch:  69\n",
            "Cost after iteration 69: 0.417157\n"
          ]
        },
        {
          "output_type": "display_data",
          "data": {
            "text/plain": [
              "<Figure size 432x288 with 1 Axes>"
            ],
            "image/png": "[encoded data removed]"
          },
          "metadata": {
            "needs_background": "light"
          }
        }
      ],
      "source": [
        "# GRADED CODE: Binary classification\n",
        "### START CODE HERE ###\n",
        "learning_rate = 0.008 #0.005\n",
        "num_iterations = 70\n",
        "batch_size = 32\n",
        "print_cost = True\n",
        "classes = 2\n",
        "costs = []   # keep track of cost\n",
        "\n",
        "\n",
        "# build the model\n",
        "model=Model()\n",
        "model.add(Conv(filter_size=3, input_channel=1, output_channel=16, pad=0, stride=2))\n",
        "model.add(Activation(\"relu\"))\n",
        "model.add(MaxPool(filter_size=2, stride=2))\n",
        "model.add(Conv(filter_size=3, input_channel=16, output_channel=16, pad=0, stride=2))\n",
        "model.add(Activation(\"relu\"))\n",
        "\n",
        "model.add(Flatten())\n",
        "model.add(Dense(144, 32))\n",
        "model.add(Activation(\"relu\"))\n",
        "model.add(Dense(32, 1))\n",
        "model.add(Activation(\"sigmoid\"))\n",
        "\n",
        "# Loop (gradient descent)\n",
        "for i in range(0, num_iterations):\n",
        "    print(\"epoch: \",i)\n",
        "    mini_batches = random_mini_batches(X_training, y_training, batch_size)\n",
        "    j=0\n",
        "    for batch in mini_batches:\n",
        "        x_batch, y_batch = batch\n",
        "\n",
        "        # forward\n",
        "        AL = model.forward(x_batch)\n",
        "\n",
        "        # compute cost\n",
        "        if classes == 2:\n",
        "            cost = compute_BCE_cost(AL, y_batch)\n",
        "        else:\n",
        "            cost = compute_CCE_cost(AL, y_batch)\n",
        "\n",
        "        # backward\n",
        "        dA_prev = model.backward(AL= AL, Y= y_batch)\n",
        "\n",
        "        # update\n",
        "        model.update(learning_rate)\n",
        "    \n",
        "    print (\"Cost after iteration %i: %f\" %(i, cost))\n",
        "    costs.append(cost)\n",
        "### END CODE HERE ###\n",
        "            \n",
        "# plot the cost\n",
        "plt.plot(np.squeeze(costs))\n",
        "plt.ylabel('cost')\n",
        "plt.xlabel('iterations (per hundreds)')\n",
        "plt.title(\"Learning rate =\" + str(learning_rate))\n",
        "plt.show()\n"
      ]
    },
    {
      "cell_type": "code",
      "source": [
        "pred_train = predict(X_training, y_training, model, 2)\n",
        "pred_val = predict(X_val, y_val, model, 2)"
      ],
      "metadata": {
        "colab": {
          "base_uri": "https://localhost:8080/"
        },
        "id": "cNUbKvlf5rH-",
        "outputId": "a5eb3441-e791-4184-c010-ee9c5e4d6930"
      },
      "execution_count": null,
      "outputs": [
        {
          "output_type": "stream",
          "name": "stdout",
          "text": [
            "m = X.shape[1]: 540\n",
            "probas.shape: (1, 540)\n",
            "Accuracy: 0.8148148148148147\n",
            "m = X.shape[1]: 60\n",
            "probas.shape: (1, 60)\n",
            "Accuracy: 0.8333333333333334\n"
          ]
        }
      ]
    },
    {
      "cell_type": "code",
      "execution_count": null,
      "metadata": {
        "id": "1hIZQOfGAPJJ",
        "colab": {
          "base_uri": "https://localhost:8080/"
        },
        "outputId": "0a3c98fd-8a35-4d62-af62-262cfdfdd852"
      },
      "outputs": [
        {
          "output_type": "stream",
          "name": "stdout",
          "text": [
            "m = X.shape[1]: 60\n",
            "probas.shape: (1, 60)\n"
          ]
        }
      ],
      "source": [
        "pred_test = predict(X_test, None, model, 2)\n",
        "output[\"basic_pred_test\"] = pred_test[0].astype(int)\n",
        "\n",
        "basic_model_layers = []\n",
        "basic_model_parameters = []\n",
        "for layer in model.layers:\n",
        "    basic_model_layers.append(layer.name)\n",
        "    if(layer.name==\"conv\" or layer.name==\"dense\" or layer.name==\"maxpool\"):\n",
        "        basic_model_parameters.append(layer.parameters)\n",
        "output[\"basic_model_layers\"] = basic_model_layers\n",
        "output[\"basic_model_parameters\"] = basic_model_parameters"
      ]
    },
    {
      "cell_type": "markdown",
      "metadata": {
        "id": "rrrYp1RwSIOh"
      },
      "source": [
        "# 8. Advanced implementation\n",
        "In this part, you will practice how to build a model by **Tensorflow**, and you finally can use GPU to accelerate the training process☺️. You can import any packages in the advanced part.\n",
        "\n",
        "**Exercise**: Implement a binary classifier by Tensorflow. You will get 15% if your prediction achieves accuracy greater than 0.7 in testing data. The rest 10% will be graded by your rank.\n",
        "\n",
        "Except you have to build the model by Tensorflow, there is no limitation in this part. You can try different model architectures, optimization parametes and image augmentation methods to get good performance.\n",
        "\n"
      ]
    },
    {
      "cell_type": "code",
      "execution_count": null,
      "metadata": {
        "id": "PDyxdy9Jk982"
      },
      "outputs": [],
      "source": [
        "# import some tensorflow packages to help you build the model\n",
        "import tensorflow as tf\n",
        "from tensorflow.keras import layers, models\n",
        "\n",
        "# import other packages here\n",
        "from keras.preprocessing.image import ImageDataGenerator \n",
        "from pathlib import Path"
      ]
    },
    {
      "cell_type": "code",
      "source": [
        "learning_rate = 0.001\n",
        "num_iterations = 20\n",
        "batch_size = 64\n",
        "print_cost = True\n",
        "classes = 2\n",
        "costs = []   # keep track of cost"
      ],
      "metadata": {
        "id": "cDPP_KEfJh8w"
      },
      "execution_count": null,
      "outputs": []
    },
    {
      "cell_type": "code",
      "execution_count": null,
      "metadata": {
        "id": "hhAjQTjPk-I0",
        "colab": {
          "base_uri": "https://localhost:8080/",
          "height": 303
        },
        "outputId": "267315d2-9787-4552-c512-3a9f1b099c6d"
      },
      "outputs": [
        {
          "output_type": "display_data",
          "data": {
            "text/plain": [
              "<Figure size 432x288 with 9 Axes>"
            ],
            "image/png": "[encoded data removed]"
          },
          "metadata": {
            "needs_background": "light"
          }
        },
        {
          "output_type": "stream",
          "name": "stdout",
          "text": [
            "Train: X=(600, 32, 32, 1), y=(600,)\n",
            "Test: X=(60, 32, 32, 1)\n"
          ]
        }
      ],
      "source": [
        "# GRADED CODE: Advanced implementation\n",
        "### Data preprocess & augmentation ###\n",
        "#You may have to adjust the shape of y_train\n",
        "#load X_train\n",
        "PATH1 = \"/content/drive/MyDrive/Training_data/\"  #path to your training image\n",
        "PATH3 = \"drive/MyDrive/Training_data\"  #path to your training image\n",
        "# p = Path(PATH1)\n",
        "# train_ds = tf.keras.utils.image_dataset_from_directory(\n",
        "#   p,\n",
        "#   seed=1,\n",
        "#   batch_size=batch_size)\n",
        "# print(train_ds.shape())\n",
        "# p = Path(PATH1)\n",
        "# l = list(p.glob('**/*'))\n",
        "# for i in l:\n",
        "\n",
        "  \n",
        "file_dir = os.listdir(PATH1) #read the images from the directory\n",
        "file_dir.sort() #Make sure the images are loaded in order\n",
        "X_train = []\n",
        "for file in file_dir:\n",
        "  path = PATH1 + \"/\" + file\n",
        "  img = imread(path, IMREAD_GRAYSCALE)\n",
        "  img = img[:, :, np.newaxis]\n",
        "  X_train.append(img)\n",
        "X_train = np.array(X_train)\n",
        "min_params = X_train.min()\n",
        "max_params = X_train.max()\n",
        "X_train = (X_train - min_params) / (max_params- min_params)\n",
        "\n",
        "#load X_test\n",
        "PATH2 = \"/content/drive/MyDrive/Testing_data\"  #path to your testing image\n",
        "file_dir = os.listdir(PATH2)\n",
        "file_dir.sort()\n",
        "\n",
        "X_test = []\n",
        "for file in file_dir:\n",
        "  path = PATH2 + \"/\" + file\n",
        "  img = imread(path, IMREAD_GRAYSCALE)\n",
        "  img = img[:, :, np.newaxis]\n",
        "  X_test.append(img)\n",
        "X_test = np.array(X_test)\n",
        "\n",
        "min_params = X_test.min()\n",
        "max_params = X_test.max()\n",
        "X_test = (X_test - min_params) / (max_params- min_params)\n",
        "\n",
        "#load y_train\n",
        "data = read_csv(\"Training_label.csv\")\n",
        "y_train = []\n",
        "\n",
        "for i in data[\"label\"]:\n",
        "  y_train.append(i)\n",
        "\n",
        "y_train = np.array(y_train)\n",
        "# y_train = y_train.reshape(-1,1)\n",
        "        \n",
        "# train_ds = tf.keras.utils.image_dataset_from_directory(\n",
        "#     PATH3,\n",
        "#     labels = y_train,\n",
        "#     # labels='inferred',\n",
        "#     label_mode='binary',\n",
        "#     batch_size=batch_size)\n",
        "\n",
        "# print(train_ds.shape)\n",
        "\n",
        "# y_train = y_train.T #transpose y_train\n",
        "\n",
        "# plot first few images\n",
        "for i in range(9):\n",
        "    # define subplot\n",
        "    plt.subplot(330 + 1 + i)\n",
        "    # plot raw pixel data\n",
        "    plt.imshow(X_train[i].squeeze(), cmap='gray', vmin=0, vmax=1)\n",
        "# show the figure\n",
        "plt.show()\n",
        "\n",
        "# check the shape of training data and testing data\n",
        "print('Train: X=%s, y=%s' % (X_train.shape, y_train.shape)) \n",
        "print('Test: X=%s' % (X_test.shape, ))\n",
        "# Train: X=(600, 32, 32, 1), y=(1, 600)  **temp**\n",
        "# Test: X=(60, 32, 32, 1)\n",
        "\n",
        "\n",
        "#data augmentation\n",
        "datagen1 = ImageDataGenerator(featurewise_center = True, featurewise_std_normalization=True) # zca_whitening=True\n",
        "datagen2 = ImageDataGenerator(featurewise_center = True, zca_whitening=True) # \n",
        "x_train_add = datagen1.flow(X_train,y_train)\n",
        "\n",
        "# print(x_train_add.shape)"
      ]
    },
    {
      "cell_type": "code",
      "source": [
        "from sklearn.model_selection import train_test_split\n",
        "X_training, X_val, y_training, y_val = train_test_split(X_train, y_train, test_size=0.2, shuffle=False)\n",
        "\n",
        "AUTOTUNE = tf.data.AUTOTUNE\n",
        "\n",
        "# train_ds = train_ds.cache().prefetch(buffer_size=AUTOTUNE)\n",
        "# val_ds = val_ds.cache().prefetch(buffer_size=AUTOTUNE)"
      ],
      "metadata": {
        "id": "lni2fzI_Msk9"
      },
      "execution_count": null,
      "outputs": []
    },
    {
      "cell_type": "code",
      "execution_count": null,
      "metadata": {
        "id": "PgL3loUQk-LO",
        "colab": {
          "base_uri": "https://localhost:8080/",
          "height": 1000
        },
        "outputId": "a3505a11-f2c3-4287-fa5b-f4bb5dc7c057"
      },
      "outputs": [
        {
          "output_type": "stream",
          "name": "stdout",
          "text": [
            "Epoch 1/70\n"
          ]
        },
        {
          "output_type": "stream",
          "name": "stderr",
          "text": [
            "/usr/local/lib/python3.8/dist-packages/tensorflow/python/util/dispatch.py:1082: UserWarning: \"`binary_crossentropy` received `from_logits=True`, but the `output` argument was produced by a sigmoid or softmax activation and thus does not represent logits. Was this intended?\"\n",
            "  return dispatch_target(*args, **kwargs)\n"
          ]
        },
        {
          "output_type": "stream",
          "name": "stdout",
          "text": [
            "8/8 [==============================] - 2s 98ms/step - loss: 0.6945 - accuracy: 0.4958 - val_loss: 0.6933 - val_accuracy: 0.4667\n",
            "Epoch 2/70\n",
            "8/8 [==============================] - 0s 62ms/step - loss: 0.6912 - accuracy: 0.5083 - val_loss: 0.6917 - val_accuracy: 0.4667\n",
            "Epoch 3/70\n",
            "8/8 [==============================] - 0s 60ms/step - loss: 0.6880 - accuracy: 0.5083 - val_loss: 0.6858 - val_accuracy: 0.4667\n",
            "Epoch 4/70\n",
            "8/8 [==============================] - 0s 58ms/step - loss: 0.6823 - accuracy: 0.5792 - val_loss: 0.6750 - val_accuracy: 0.7583\n",
            "Epoch 5/70\n",
            "8/8 [==============================] - 0s 61ms/step - loss: 0.6729 - accuracy: 0.6104 - val_loss: 0.6545 - val_accuracy: 0.8083\n",
            "Epoch 6/70\n",
            "8/8 [==============================] - 0s 58ms/step - loss: 0.6548 - accuracy: 0.7063 - val_loss: 0.6355 - val_accuracy: 0.6500\n",
            "Epoch 7/70\n",
            "8/8 [==============================] - 0s 61ms/step - loss: 0.6149 - accuracy: 0.7292 - val_loss: 0.5607 - val_accuracy: 0.8167\n",
            "Epoch 8/70\n",
            "8/8 [==============================] - 0s 59ms/step - loss: 0.5707 - accuracy: 0.7604 - val_loss: 0.5321 - val_accuracy: 0.7667\n",
            "Epoch 9/70\n",
            "8/8 [==============================] - 0s 60ms/step - loss: 0.5060 - accuracy: 0.7792 - val_loss: 0.4964 - val_accuracy: 0.8083\n",
            "Epoch 10/70\n",
            "8/8 [==============================] - 0s 58ms/step - loss: 0.4806 - accuracy: 0.7833 - val_loss: 0.4824 - val_accuracy: 0.8167\n",
            "Epoch 11/70\n",
            "8/8 [==============================] - 0s 57ms/step - loss: 0.4883 - accuracy: 0.7812 - val_loss: 0.5068 - val_accuracy: 0.7917\n",
            "Epoch 12/70\n",
            "8/8 [==============================] - 0s 63ms/step - loss: 0.4678 - accuracy: 0.7958 - val_loss: 0.4576 - val_accuracy: 0.8250\n",
            "Epoch 13/70\n",
            "8/8 [==============================] - 0s 59ms/step - loss: 0.4433 - accuracy: 0.7979 - val_loss: 0.4614 - val_accuracy: 0.8417\n",
            "Epoch 14/70\n",
            "8/8 [==============================] - 0s 60ms/step - loss: 0.4362 - accuracy: 0.7875 - val_loss: 0.5565 - val_accuracy: 0.7083\n",
            "Epoch 15/70\n",
            "8/8 [==============================] - 0s 58ms/step - loss: 0.4397 - accuracy: 0.7833 - val_loss: 0.4664 - val_accuracy: 0.8417\n",
            "Epoch 16/70\n",
            "8/8 [==============================] - 0s 60ms/step - loss: 0.4242 - accuracy: 0.8208 - val_loss: 0.4868 - val_accuracy: 0.7667\n",
            "Epoch 17/70\n",
            "8/8 [==============================] - 0s 58ms/step - loss: 0.4432 - accuracy: 0.8083 - val_loss: 0.4756 - val_accuracy: 0.8167\n",
            "Epoch 18/70\n",
            "8/8 [==============================] - 0s 61ms/step - loss: 0.4253 - accuracy: 0.8146 - val_loss: 0.4587 - val_accuracy: 0.8417\n",
            "Epoch 19/70\n",
            "8/8 [==============================] - 0s 58ms/step - loss: 0.4230 - accuracy: 0.8208 - val_loss: 0.4618 - val_accuracy: 0.8417\n",
            "Epoch 20/70\n",
            "8/8 [==============================] - 1s 66ms/step - loss: 0.4273 - accuracy: 0.8125 - val_loss: 0.4561 - val_accuracy: 0.8417\n",
            "Epoch 21/70\n",
            "8/8 [==============================] - 0s 63ms/step - loss: 0.4110 - accuracy: 0.8167 - val_loss: 0.4640 - val_accuracy: 0.8167\n",
            "Epoch 22/70\n",
            "8/8 [==============================] - 1s 63ms/step - loss: 0.4155 - accuracy: 0.8229 - val_loss: 0.4655 - val_accuracy: 0.8250\n",
            "Epoch 23/70\n",
            "8/8 [==============================] - 0s 62ms/step - loss: 0.4067 - accuracy: 0.8104 - val_loss: 0.4541 - val_accuracy: 0.8250\n",
            "Epoch 24/70\n",
            "8/8 [==============================] - 1s 66ms/step - loss: 0.4006 - accuracy: 0.8188 - val_loss: 0.4681 - val_accuracy: 0.8250\n",
            "Epoch 25/70\n",
            "8/8 [==============================] - 1s 63ms/step - loss: 0.4021 - accuracy: 0.8208 - val_loss: 0.4561 - val_accuracy: 0.8333\n",
            "Epoch 26/70\n",
            "8/8 [==============================] - 1s 65ms/step - loss: 0.3927 - accuracy: 0.8167 - val_loss: 0.4609 - val_accuracy: 0.8250\n",
            "Epoch 27/70\n",
            "8/8 [==============================] - 0s 63ms/step - loss: 0.3951 - accuracy: 0.8396 - val_loss: 0.4930 - val_accuracy: 0.7833\n",
            "Epoch 28/70\n",
            "8/8 [==============================] - 1s 64ms/step - loss: 0.4009 - accuracy: 0.8271 - val_loss: 0.4621 - val_accuracy: 0.8167\n",
            "Epoch 29/70\n",
            "8/8 [==============================] - 1s 63ms/step - loss: 0.3935 - accuracy: 0.8125 - val_loss: 0.4897 - val_accuracy: 0.8167\n",
            "Epoch 30/70\n",
            "8/8 [==============================] - 1s 64ms/step - loss: 0.4045 - accuracy: 0.8229 - val_loss: 0.4568 - val_accuracy: 0.8250\n",
            "Epoch 31/70\n",
            "8/8 [==============================] - 0s 62ms/step - loss: 0.3818 - accuracy: 0.8375 - val_loss: 0.4654 - val_accuracy: 0.8250\n",
            "Epoch 32/70\n",
            "8/8 [==============================] - 1s 64ms/step - loss: 0.3753 - accuracy: 0.8333 - val_loss: 0.4638 - val_accuracy: 0.8333\n",
            "Epoch 33/70\n",
            "8/8 [==============================] - 1s 67ms/step - loss: 0.3749 - accuracy: 0.8375 - val_loss: 0.4542 - val_accuracy: 0.8250\n",
            "Epoch 34/70\n",
            "8/8 [==============================] - 1s 65ms/step - loss: 0.3893 - accuracy: 0.8438 - val_loss: 0.4595 - val_accuracy: 0.8250\n",
            "Epoch 35/70\n",
            "8/8 [==============================] - 1s 63ms/step - loss: 0.3833 - accuracy: 0.8417 - val_loss: 0.4648 - val_accuracy: 0.8083\n",
            "Epoch 36/70\n",
            "8/8 [==============================] - 1s 63ms/step - loss: 0.3812 - accuracy: 0.8479 - val_loss: 0.4523 - val_accuracy: 0.8417\n",
            "Epoch 37/70\n",
            "8/8 [==============================] - 0s 62ms/step - loss: 0.3664 - accuracy: 0.8396 - val_loss: 0.4586 - val_accuracy: 0.8250\n",
            "Epoch 38/70\n",
            "8/8 [==============================] - 0s 63ms/step - loss: 0.3721 - accuracy: 0.8562 - val_loss: 0.4750 - val_accuracy: 0.7917\n",
            "Epoch 39/70\n",
            "8/8 [==============================] - 0s 61ms/step - loss: 0.3760 - accuracy: 0.8375 - val_loss: 0.5007 - val_accuracy: 0.7917\n",
            "Epoch 40/70\n",
            "8/8 [==============================] - 1s 67ms/step - loss: 0.3830 - accuracy: 0.8500 - val_loss: 0.4748 - val_accuracy: 0.8000\n",
            "Epoch 41/70\n",
            "8/8 [==============================] - 0s 61ms/step - loss: 0.3655 - accuracy: 0.8333 - val_loss: 0.4470 - val_accuracy: 0.8250\n",
            "Epoch 42/70\n",
            "8/8 [==============================] - 1s 63ms/step - loss: 0.3556 - accuracy: 0.8417 - val_loss: 0.4584 - val_accuracy: 0.8250\n",
            "Epoch 43/70\n",
            "8/8 [==============================] - 0s 62ms/step - loss: 0.3641 - accuracy: 0.8542 - val_loss: 0.4652 - val_accuracy: 0.8250\n",
            "Epoch 44/70\n",
            "8/8 [==============================] - 1s 64ms/step - loss: 0.3561 - accuracy: 0.8500 - val_loss: 0.4549 - val_accuracy: 0.8333\n",
            "Epoch 45/70\n",
            "8/8 [==============================] - 1s 63ms/step - loss: 0.3477 - accuracy: 0.8542 - val_loss: 0.4638 - val_accuracy: 0.8333\n",
            "Epoch 46/70\n",
            "8/8 [==============================] - 0s 63ms/step - loss: 0.3366 - accuracy: 0.8583 - val_loss: 0.4595 - val_accuracy: 0.8250\n",
            "Epoch 47/70\n",
            "8/8 [==============================] - 0s 62ms/step - loss: 0.3347 - accuracy: 0.8583 - val_loss: 0.4680 - val_accuracy: 0.8167\n",
            "Epoch 48/70\n",
            "8/8 [==============================] - 1s 64ms/step - loss: 0.3389 - accuracy: 0.8562 - val_loss: 0.4685 - val_accuracy: 0.8167\n",
            "Epoch 49/70\n",
            "8/8 [==============================] - 0s 63ms/step - loss: 0.3411 - accuracy: 0.8604 - val_loss: 0.4786 - val_accuracy: 0.7917\n",
            "Epoch 50/70\n",
            "8/8 [==============================] - 0s 62ms/step - loss: 0.3328 - accuracy: 0.8708 - val_loss: 0.4609 - val_accuracy: 0.8167\n",
            "Epoch 51/70\n",
            "8/8 [==============================] - 0s 61ms/step - loss: 0.3198 - accuracy: 0.8646 - val_loss: 0.4556 - val_accuracy: 0.8250\n",
            "Epoch 52/70\n",
            "8/8 [==============================] - 0s 62ms/step - loss: 0.3193 - accuracy: 0.8687 - val_loss: 0.5167 - val_accuracy: 0.7917\n",
            "Epoch 53/70\n",
            "8/8 [==============================] - 1s 68ms/step - loss: 0.3345 - accuracy: 0.8500 - val_loss: 0.4817 - val_accuracy: 0.8083\n",
            "Epoch 54/70\n",
            "8/8 [==============================] - 0s 63ms/step - loss: 0.3122 - accuracy: 0.8708 - val_loss: 0.4804 - val_accuracy: 0.8000\n",
            "Epoch 55/70\n",
            "8/8 [==============================] - 1s 63ms/step - loss: 0.3440 - accuracy: 0.8583 - val_loss: 0.4474 - val_accuracy: 0.8167\n",
            "Epoch 56/70\n",
            "8/8 [==============================] - 0s 61ms/step - loss: 0.3106 - accuracy: 0.8833 - val_loss: 0.4542 - val_accuracy: 0.8250\n",
            "Epoch 57/70\n",
            "8/8 [==============================] - 1s 62ms/step - loss: 0.3212 - accuracy: 0.8667 - val_loss: 0.5242 - val_accuracy: 0.8000\n",
            "Epoch 58/70\n",
            "8/8 [==============================] - 0s 61ms/step - loss: 0.3654 - accuracy: 0.8438 - val_loss: 0.4444 - val_accuracy: 0.8250\n",
            "Epoch 59/70\n",
            "8/8 [==============================] - 1s 62ms/step - loss: 0.3384 - accuracy: 0.8604 - val_loss: 0.4758 - val_accuracy: 0.8083\n",
            "Epoch 60/70\n",
            "8/8 [==============================] - 1s 63ms/step - loss: 0.3167 - accuracy: 0.8750 - val_loss: 0.4603 - val_accuracy: 0.8083\n",
            "Epoch 61/70\n",
            "8/8 [==============================] - 0s 61ms/step - loss: 0.3015 - accuracy: 0.8833 - val_loss: 0.4766 - val_accuracy: 0.8167\n",
            "Epoch 62/70\n",
            "8/8 [==============================] - 0s 58ms/step - loss: 0.2990 - accuracy: 0.8771 - val_loss: 0.5587 - val_accuracy: 0.7750\n",
            "Epoch 63/70\n",
            "8/8 [==============================] - 0s 61ms/step - loss: 0.3426 - accuracy: 0.8333 - val_loss: 0.4642 - val_accuracy: 0.8167\n",
            "Epoch 64/70\n",
            "8/8 [==============================] - 0s 59ms/step - loss: 0.2851 - accuracy: 0.8875 - val_loss: 0.4823 - val_accuracy: 0.8083\n",
            "Epoch 65/70\n",
            "8/8 [==============================] - 0s 61ms/step - loss: 0.2726 - accuracy: 0.8958 - val_loss: 0.4588 - val_accuracy: 0.8250\n",
            "Epoch 66/70\n",
            "8/8 [==============================] - 0s 59ms/step - loss: 0.2658 - accuracy: 0.8875 - val_loss: 0.4722 - val_accuracy: 0.8083\n",
            "Epoch 67/70\n",
            "8/8 [==============================] - 1s 64ms/step - loss: 0.2895 - accuracy: 0.8750 - val_loss: 0.4926 - val_accuracy: 0.8000\n",
            "Epoch 68/70\n",
            "8/8 [==============================] - 1s 62ms/step - loss: 0.2693 - accuracy: 0.8917 - val_loss: 0.4756 - val_accuracy: 0.8250\n",
            "Epoch 69/70\n",
            "8/8 [==============================] - 1s 65ms/step - loss: 0.2503 - accuracy: 0.9000 - val_loss: 0.4825 - val_accuracy: 0.8167\n",
            "Epoch 70/70\n",
            "8/8 [==============================] - 0s 62ms/step - loss: 0.2449 - accuracy: 0.9000 - val_loss: 0.4945 - val_accuracy: 0.8250\n"
          ]
        },
        {
          "output_type": "display_data",
          "data": {
            "text/plain": [
              "<Figure size 432x288 with 1 Axes>"
            ],
            "image/png": "[encoded data removed]"
          },
          "metadata": {
            "needs_background": "light"
          }
        },
        {
          "output_type": "stream",
          "name": "stdout",
          "text": [
            "Model: \"sequential\"\n",
            "_________________________________________________________________\n",
            " Layer (type)                Output Shape              Param #   \n",
            "=================================================================\n",
            " conv2d (Conv2D)             (None, 32, 32, 16)        160       \n",
            "                                                                 \n",
            " max_pooling2d (MaxPooling2D  (None, 16, 16, 16)       0         \n",
            " )                                                               \n",
            "                                                                 \n",
            " conv2d_1 (Conv2D)           (None, 16, 16, 16)        2320      \n",
            "                                                                 \n",
            " max_pooling2d_1 (MaxPooling  (None, 8, 8, 16)         0         \n",
            " 2D)                                                             \n",
            "                                                                 \n",
            " conv2d_2 (Conv2D)           (None, 8, 8, 16)          2320      \n",
            "                                                                 \n",
            " max_pooling2d_2 (MaxPooling  (None, 4, 4, 16)         0         \n",
            " 2D)                                                             \n",
            "                                                                 \n",
            " conv2d_3 (Conv2D)           (None, 4, 4, 16)          2320      \n",
            "                                                                 \n",
            " flatten (Flatten)           (None, 256)               0         \n",
            "                                                                 \n",
            " dense (Dense)               (None, 32)                8224      \n",
            "                                                                 \n",
            " dense_1 (Dense)             (None, 32)                1056      \n",
            "                                                                 \n",
            " dense_2 (Dense)             (None, 1)                 33        \n",
            "                                                                 \n",
            "=================================================================\n",
            "Total params: 16,433\n",
            "Trainable params: 16,433\n",
            "Non-trainable params: 0\n",
            "_________________________________________________________________\n"
          ]
        }
      ],
      "source": [
        "# GRADED CODE: Advanced implementation\n",
        "### Start training ###\n",
        "num_classes = 2\n",
        "# model.add(Conv(filter_size=3, input_channel=1, output_channel=16, pad=0, stride=2))\n",
        "# model.add(Activation(\"relu\"))\n",
        "# model.add(MaxPool(filter_size=2, stride=2))\n",
        "# model.add(Conv(filter_size=3, input_channel=16, output_channel=16, pad=0, stride=2))\n",
        "# model.add(Activation(\"relu\"))\n",
        "\n",
        "# model.add(Flatten())\n",
        "# model.add(Dense(144, 32))\n",
        "# model.add(Activation(\"relu\"))\n",
        "# model.add(Dense(32, 1))\n",
        "# model.add(Activation(\"sigmoid\"))\n",
        "# model = tf.keras.Sequential([\n",
        "#   tf.keras.layers.Conv2D(filters = 3, kernel_size = (1,16), strides = 1, padding=\"same\", activation='relu', input_shape = (32,32,1)), #filter = output channel, kernel size = filter size\n",
        "#   tf.keras.layers.MaxPooling2D(pool_size=3, strides=2 ,padding=\"valid\"),\n",
        "#   tf.keras.layers.Conv2D(filters = 3, kernel_size = (16,16), strides = 1, padding=\"same\", activation='relu'),\n",
        "#   tf.keras.layers.MaxPooling2D(pool_size=2, strides=2 ,padding=\"valid\"),\n",
        "#   tf.keras.layers.Conv2D(filters = 3, kernel_size = (16,16), strides = 1, padding=\"same\", activation='relu'),\n",
        "#   # tf.keras.layers.MaxPooling2D(pool_size=3, strides=2 ,padding=\"valid\"),\n",
        "#   tf.keras.layers.Flatten(),\n",
        "#   # tf.keras.layers.Dense(32, activation='relu'),\n",
        "#   tf.keras.layers.Dense(32, activation='relu'),\n",
        "#   tf.keras.layers.Dense(32, activation='relu'),\n",
        "#   tf.keras.layers.Dense(1, activation='sigmoid'),\n",
        "#   # tf.keras.layers.Dense(num_classes)\n",
        "# ])\n",
        "\n",
        "model = tf.keras.Sequential([\n",
        "  tf.keras.layers.Dense(32, activation='relu'),\n",
        "  # tf.keras.layers.Dropout(0.2)\n",
        "  tf.keras.layers.Dense(32, activation='relu'),\n",
        "  tf.keras.layers.Dense(1, activation='sigmoid'),\n",
        "  # tf.keras.layers.Dense(num_classes)\n",
        "])\n",
        "\n",
        "model.compile(\n",
        "  optimizer=tf.keras.optimizers.Adam(learning_rate=0.001),\n",
        "  loss=tf.keras.losses.BinaryCrossentropy(from_logits=True),\n",
        "  metrics=['accuracy'])\n",
        "\n",
        "history = model.fit(x=X_train, y=y_train, validation_split = 0.2, batch_size = batch_size, shuffle = True, epochs=70) #, validation_data = val\n",
        "\n",
        "plt.plot(history.history['loss'])\n",
        "plt.plot(history.history['val_loss'])\n",
        "plt.title('model loss')\n",
        "plt.ylabel('loss')\n",
        "plt.xlabel('epoch')\n",
        "plt.legend(['train', 'val'], loc='upper left')\n",
        "plt.show()\n",
        "\n",
        "model.summary()"
      ]
    },
    {
      "cell_type": "code",
      "execution_count": null,
      "metadata": {
        "id": "pObMJ67hk-Ov",
        "colab": {
          "base_uri": "https://localhost:8080/"
        },
        "outputId": "5e243d35-b052-4485-b03f-cae71c507ea8"
      },
      "outputs": [
        {
          "output_type": "stream",
          "name": "stdout",
          "text": [
            "2/2 [==============================] - 0s 17ms/step\n",
            "[1 0 1 1 1 1 1 1 1 0 1 1 1 0 0 0 1 1 1 1 1 0 1 1 0 1 1 0 1 1 0 1 0 0 0 0 0\n",
            " 0 0 0 0 0 1 1 0 1 0 0 0 1 1 0 1 1 0 0 0 0 0 1]\n"
          ]
        }
      ],
      "source": [
        "pred_test = model.predict(X_test)\n",
        "# pred_test = np.argmax(pred_test, axis = 1)\n",
        "pred_test = (pred_test>0.5)[:,0].astype(int)\n",
        "advanced = {}\n",
        "advanced[\"advanced\"] = pred_test\n",
        "print(pred_test)\n",
        "# np.save(\"hw4_advanced_prediction.npy\",advanced)\n",
        "output[\"advanced_pred_test\"] = pred_test"
      ]
    },
    {
      "cell_type": "markdown",
      "metadata": {
        "id": "WXGnS3HQeNUc"
      },
      "source": [
        "# Submit prediction"
      ]
    },
    {
      "cell_type": "code",
      "execution_count": null,
      "metadata": {
        "id": "twMsmXbQeDL_"
      },
      "outputs": [],
      "source": [
        "# sanity check\n",
        "assert(list(output.keys()) == ['conv_initialization', 'zero_padding', 'conv_single_step', 'conv_forward_1', 'conv_forward_2', 'conv_forward_3', 'conv_update_1', 'conv_update_2', 'maxpool_forward', 'flatten_forward', 'flatten_backward', 'model_1', 'model_2', 'model_3', 'model_4', 'basic_pred_test', 'basic_model_layers', 'basic_model_parameters', 'advanced_pred_test'])"
      ]
    },
    {
      "cell_type": "code",
      "execution_count": null,
      "metadata": {
        "id": "bCJ0XTO_zE8A"
      },
      "outputs": [],
      "source": [
        "np.save(\"hw4_output.npy\", output)"
      ]
    },
    {
      "cell_type": "code",
      "execution_count": null,
      "metadata": {
        "id": "wFBFUUEg1to-",
        "colab": {
          "base_uri": "https://localhost:8080/"
        },
        "outputId": "c1788457-f92b-44d7-d440-5b2c0fc9e6ea"
      },
      "outputs": [
        {
          "output_type": "stream",
          "name": "stdout",
          "text": [
            "conv_initialization： <class 'numpy.ndarray'>\n",
            "zero_padding： <class 'numpy.ndarray'>\n",
            "conv_single_step： <class 'numpy.float64'>\n",
            "conv_forward_1： <class 'numpy.float64'>\n",
            "conv_forward_2： <class 'numpy.ndarray'>\n",
            "conv_forward_3： <class 'numpy.ndarray'>\n",
            "conv_update_1： <class 'numpy.ndarray'>\n",
            "conv_update_2： <class 'numpy.ndarray'>\n",
            "maxpool_forward： <class 'numpy.ndarray'>\n",
            "flatten_forward： <class 'numpy.ndarray'>\n",
            "flatten_backward： <class 'numpy.ndarray'>\n",
            "model_1： <class 'numpy.ndarray'>\n",
            "model_2： <class 'numpy.ndarray'>\n",
            "model_3： <class 'numpy.ndarray'>\n",
            "model_4： <class 'numpy.ndarray'>\n",
            "basic_pred_test： <class 'numpy.ndarray'>\n",
            "basic_model_layers： <class 'list'>\n",
            "basic_model_parameters： <class 'list'>\n",
            "advanced_pred_test： <class 'numpy.ndarray'>\n"
          ]
        }
      ],
      "source": [
        "# sanity check\n",
        "submit = np.load(\"hw4_output.npy\", allow_pickle=True).item()\n",
        "for key, value in submit.items():\n",
        "    print(str(key) + \"： \" + str(type(value)))"
      ]
    },
    {
      "cell_type": "markdown",
      "metadata": {
        "id": "MBkBtZHxIh8Z"
      },
      "source": [
        "Expected output:<br>\n",
        "<small>\n",
        "conv_initialization： <class 'numpy.ndarray'> <br>\n",
        "zero_padding： <class 'numpy.ndarray'> <br>\n",
        "conv_single_step： <class 'numpy.ndarray'> <br>\n",
        "conv_forward_1： <class 'numpy.float64'> <br>\n",
        "conv_forward_2： <class 'numpy.ndarray'> <br>\n",
        "conv_forward_3： <class 'numpy.ndarray'> <br>\n",
        "conv_update_1： <class 'numpy.ndarray'> <br>\n",
        "conv_update_2： <class 'numpy.ndarray'> <br>\n",
        "maxpool_forward： <class 'numpy.ndarray'> <br>\n",
        "flatten_forward： <class 'numpy.ndarray'> <br>\n",
        "flatten_backward： <class 'numpy.ndarray'> <br>\n",
        "model_1： <class 'numpy.ndarray'> <br>\n",
        "model_2： <class 'numpy.ndarray'> <br>\n",
        "model_3： <class 'numpy.ndarray'> <br>\n",
        "model_4： <class 'numpy.ndarray'> <br>\n",
        "basic_pred_test： <class 'numpy.ndarray'> <br>\n",
        "basic_model_layers： <class 'list'> <br>\n",
        "basic_model_parameters： <class 'list'> <br>\n",
        "advanced_pred_test： <class 'numpy.ndarray'> <br>\n",
        "</small>"
      ]
    }
  ],
  "metadata": {
    "colab": {
      "provenance": []
    },
    "kernelspec": {
      "display_name": "Python 3 (ipykernel)",
      "language": "python",
      "name": "python3"
    },
    "language_info": {
      "codemirror_mode": {
        "name": "ipython",
        "version": 3
      },
      "file_extension": ".py",
      "mimetype": "text/x-python",
      "name": "python",
      "nbconvert_exporter": "python",
      "pygments_lexer": "ipython3",
      "version": "3.9.13"
    }
  },
  "nbformat": 4,
  "nbformat_minor": 0
}